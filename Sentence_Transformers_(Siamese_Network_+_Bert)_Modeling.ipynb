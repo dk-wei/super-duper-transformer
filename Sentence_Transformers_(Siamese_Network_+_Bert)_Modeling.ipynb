{
  "nbformat": 4,
  "nbformat_minor": 0,
  "metadata": {
    "accelerator": "GPU",
    "colab": {
      "name": "Sentence Transformers (Siamese Network + Bert) Modeling.ipynb",
      "provenance": [],
      "collapsed_sections": [
        "fLtRIz45Ac-z",
        "71iv5LmCvQyH"
      ],
      "authorship_tag": "ABX9TyM8tY6ZlS7a/3LhIs7dtduw",
      "include_colab_link": true
    },
    "kernelspec": {
      "display_name": "Python 3",
      "name": "python3"
    },
    "language_info": {
      "name": "python"
    },
    "widgets": {
      "application/vnd.jupyter.widget-state+json": {
        "75b5fac6d25f48c38122773cb39d301e": {
          "model_module": "@jupyter-widgets/controls",
          "model_name": "HBoxModel",
          "state": {
            "_view_name": "HBoxView",
            "_dom_classes": [],
            "_model_name": "HBoxModel",
            "_view_module": "@jupyter-widgets/controls",
            "_model_module_version": "1.5.0",
            "_view_count": null,
            "_view_module_version": "1.5.0",
            "box_style": "",
            "layout": "IPY_MODEL_1cb7072f7428475381653058e845aa95",
            "_model_module": "@jupyter-widgets/controls",
            "children": [
              "IPY_MODEL_084860689f894ff59886adc91ca0dec9",
              "IPY_MODEL_2886728d73354fd1af256782e9ef7621"
            ]
          }
        },
        "1cb7072f7428475381653058e845aa95": {
          "model_module": "@jupyter-widgets/base",
          "model_name": "LayoutModel",
          "state": {
            "_view_name": "LayoutView",
            "grid_template_rows": null,
            "right": null,
            "justify_content": null,
            "_view_module": "@jupyter-widgets/base",
            "overflow": null,
            "_model_module_version": "1.2.0",
            "_view_count": null,
            "flex_flow": null,
            "width": null,
            "min_width": null,
            "border": null,
            "align_items": null,
            "bottom": null,
            "_model_module": "@jupyter-widgets/base",
            "top": null,
            "grid_column": null,
            "overflow_y": null,
            "overflow_x": null,
            "grid_auto_flow": null,
            "grid_area": null,
            "grid_template_columns": null,
            "flex": null,
            "_model_name": "LayoutModel",
            "justify_items": null,
            "grid_row": null,
            "max_height": null,
            "align_content": null,
            "visibility": null,
            "align_self": null,
            "height": null,
            "min_height": null,
            "padding": null,
            "grid_auto_rows": null,
            "grid_gap": null,
            "max_width": null,
            "order": null,
            "_view_module_version": "1.2.0",
            "grid_template_areas": null,
            "object_position": null,
            "object_fit": null,
            "grid_auto_columns": null,
            "margin": null,
            "display": null,
            "left": null
          }
        },
        "084860689f894ff59886adc91ca0dec9": {
          "model_module": "@jupyter-widgets/controls",
          "model_name": "FloatProgressModel",
          "state": {
            "_view_name": "ProgressView",
            "style": "IPY_MODEL_65ef7f16b507436b9c11c8dd4bcab700",
            "_dom_classes": [],
            "description": "Epoch: 100%",
            "_model_name": "FloatProgressModel",
            "bar_style": "success",
            "max": 1,
            "_view_module": "@jupyter-widgets/controls",
            "_model_module_version": "1.5.0",
            "value": 1,
            "_view_count": null,
            "_view_module_version": "1.5.0",
            "orientation": "horizontal",
            "min": 0,
            "description_tooltip": null,
            "_model_module": "@jupyter-widgets/controls",
            "layout": "IPY_MODEL_b3ed0426c43b4eb4a3feb59173f7b930"
          }
        },
        "2886728d73354fd1af256782e9ef7621": {
          "model_module": "@jupyter-widgets/controls",
          "model_name": "HTMLModel",
          "state": {
            "_view_name": "HTMLView",
            "style": "IPY_MODEL_87d057245dc4471c84887e82c21d39b3",
            "_dom_classes": [],
            "description": "",
            "_model_name": "HTMLModel",
            "placeholder": "​",
            "_view_module": "@jupyter-widgets/controls",
            "_model_module_version": "1.5.0",
            "value": " 1/1 [01:01&lt;00:00, 61.32s/it]",
            "_view_count": null,
            "_view_module_version": "1.5.0",
            "description_tooltip": null,
            "_model_module": "@jupyter-widgets/controls",
            "layout": "IPY_MODEL_aea39426f1384d2191fe2f05dd53cde5"
          }
        },
        "65ef7f16b507436b9c11c8dd4bcab700": {
          "model_module": "@jupyter-widgets/controls",
          "model_name": "ProgressStyleModel",
          "state": {
            "_view_name": "StyleView",
            "_model_name": "ProgressStyleModel",
            "description_width": "initial",
            "_view_module": "@jupyter-widgets/base",
            "_model_module_version": "1.5.0",
            "_view_count": null,
            "_view_module_version": "1.2.0",
            "bar_color": null,
            "_model_module": "@jupyter-widgets/controls"
          }
        },
        "b3ed0426c43b4eb4a3feb59173f7b930": {
          "model_module": "@jupyter-widgets/base",
          "model_name": "LayoutModel",
          "state": {
            "_view_name": "LayoutView",
            "grid_template_rows": null,
            "right": null,
            "justify_content": null,
            "_view_module": "@jupyter-widgets/base",
            "overflow": null,
            "_model_module_version": "1.2.0",
            "_view_count": null,
            "flex_flow": null,
            "width": null,
            "min_width": null,
            "border": null,
            "align_items": null,
            "bottom": null,
            "_model_module": "@jupyter-widgets/base",
            "top": null,
            "grid_column": null,
            "overflow_y": null,
            "overflow_x": null,
            "grid_auto_flow": null,
            "grid_area": null,
            "grid_template_columns": null,
            "flex": null,
            "_model_name": "LayoutModel",
            "justify_items": null,
            "grid_row": null,
            "max_height": null,
            "align_content": null,
            "visibility": null,
            "align_self": null,
            "height": null,
            "min_height": null,
            "padding": null,
            "grid_auto_rows": null,
            "grid_gap": null,
            "max_width": null,
            "order": null,
            "_view_module_version": "1.2.0",
            "grid_template_areas": null,
            "object_position": null,
            "object_fit": null,
            "grid_auto_columns": null,
            "margin": null,
            "display": null,
            "left": null
          }
        },
        "87d057245dc4471c84887e82c21d39b3": {
          "model_module": "@jupyter-widgets/controls",
          "model_name": "DescriptionStyleModel",
          "state": {
            "_view_name": "StyleView",
            "_model_name": "DescriptionStyleModel",
            "description_width": "",
            "_view_module": "@jupyter-widgets/base",
            "_model_module_version": "1.5.0",
            "_view_count": null,
            "_view_module_version": "1.2.0",
            "_model_module": "@jupyter-widgets/controls"
          }
        },
        "aea39426f1384d2191fe2f05dd53cde5": {
          "model_module": "@jupyter-widgets/base",
          "model_name": "LayoutModel",
          "state": {
            "_view_name": "LayoutView",
            "grid_template_rows": null,
            "right": null,
            "justify_content": null,
            "_view_module": "@jupyter-widgets/base",
            "overflow": null,
            "_model_module_version": "1.2.0",
            "_view_count": null,
            "flex_flow": null,
            "width": null,
            "min_width": null,
            "border": null,
            "align_items": null,
            "bottom": null,
            "_model_module": "@jupyter-widgets/base",
            "top": null,
            "grid_column": null,
            "overflow_y": null,
            "overflow_x": null,
            "grid_auto_flow": null,
            "grid_area": null,
            "grid_template_columns": null,
            "flex": null,
            "_model_name": "LayoutModel",
            "justify_items": null,
            "grid_row": null,
            "max_height": null,
            "align_content": null,
            "visibility": null,
            "align_self": null,
            "height": null,
            "min_height": null,
            "padding": null,
            "grid_auto_rows": null,
            "grid_gap": null,
            "max_width": null,
            "order": null,
            "_view_module_version": "1.2.0",
            "grid_template_areas": null,
            "object_position": null,
            "object_fit": null,
            "grid_auto_columns": null,
            "margin": null,
            "display": null,
            "left": null
          }
        },
        "ed007cb3d4df432682bb51772c3348a3": {
          "model_module": "@jupyter-widgets/controls",
          "model_name": "HBoxModel",
          "state": {
            "_view_name": "HBoxView",
            "_dom_classes": [],
            "_model_name": "HBoxModel",
            "_view_module": "@jupyter-widgets/controls",
            "_model_module_version": "1.5.0",
            "_view_count": null,
            "_view_module_version": "1.5.0",
            "box_style": "",
            "layout": "IPY_MODEL_4b04ab97d8384bfca1f6cab861167660",
            "_model_module": "@jupyter-widgets/controls",
            "children": [
              "IPY_MODEL_53031e572e3c4af583799ae006286b1a",
              "IPY_MODEL_e77616d21bdd40198defd4a0255632d6"
            ]
          }
        },
        "4b04ab97d8384bfca1f6cab861167660": {
          "model_module": "@jupyter-widgets/base",
          "model_name": "LayoutModel",
          "state": {
            "_view_name": "LayoutView",
            "grid_template_rows": null,
            "right": null,
            "justify_content": null,
            "_view_module": "@jupyter-widgets/base",
            "overflow": null,
            "_model_module_version": "1.2.0",
            "_view_count": null,
            "flex_flow": null,
            "width": null,
            "min_width": null,
            "border": null,
            "align_items": null,
            "bottom": null,
            "_model_module": "@jupyter-widgets/base",
            "top": null,
            "grid_column": null,
            "overflow_y": null,
            "overflow_x": null,
            "grid_auto_flow": null,
            "grid_area": null,
            "grid_template_columns": null,
            "flex": null,
            "_model_name": "LayoutModel",
            "justify_items": null,
            "grid_row": null,
            "max_height": null,
            "align_content": null,
            "visibility": null,
            "align_self": null,
            "height": null,
            "min_height": null,
            "padding": null,
            "grid_auto_rows": null,
            "grid_gap": null,
            "max_width": null,
            "order": null,
            "_view_module_version": "1.2.0",
            "grid_template_areas": null,
            "object_position": null,
            "object_fit": null,
            "grid_auto_columns": null,
            "margin": null,
            "display": null,
            "left": null
          }
        },
        "53031e572e3c4af583799ae006286b1a": {
          "model_module": "@jupyter-widgets/controls",
          "model_name": "FloatProgressModel",
          "state": {
            "_view_name": "ProgressView",
            "style": "IPY_MODEL_5754c0632177416b97763c070bbb7c7c",
            "_dom_classes": [],
            "description": "Iteration: 100%",
            "_model_name": "FloatProgressModel",
            "bar_style": "success",
            "max": 2,
            "_view_module": "@jupyter-widgets/controls",
            "_model_module_version": "1.5.0",
            "value": 2,
            "_view_count": null,
            "_view_module_version": "1.5.0",
            "orientation": "horizontal",
            "min": 0,
            "description_tooltip": null,
            "_model_module": "@jupyter-widgets/controls",
            "layout": "IPY_MODEL_494eb9267faf444483cb4f4c380ec0b8"
          }
        },
        "e77616d21bdd40198defd4a0255632d6": {
          "model_module": "@jupyter-widgets/controls",
          "model_name": "HTMLModel",
          "state": {
            "_view_name": "HTMLView",
            "style": "IPY_MODEL_124c4ea6f0f6487dba56ec8d2031df7f",
            "_dom_classes": [],
            "description": "",
            "_model_name": "HTMLModel",
            "placeholder": "​",
            "_view_module": "@jupyter-widgets/controls",
            "_model_module_version": "1.5.0",
            "value": " 2/2 [00:03&lt;00:00,  1.54s/it]",
            "_view_count": null,
            "_view_module_version": "1.5.0",
            "description_tooltip": null,
            "_model_module": "@jupyter-widgets/controls",
            "layout": "IPY_MODEL_06b28852f10e49be97e62da66032f1c0"
          }
        },
        "5754c0632177416b97763c070bbb7c7c": {
          "model_module": "@jupyter-widgets/controls",
          "model_name": "ProgressStyleModel",
          "state": {
            "_view_name": "StyleView",
            "_model_name": "ProgressStyleModel",
            "description_width": "initial",
            "_view_module": "@jupyter-widgets/base",
            "_model_module_version": "1.5.0",
            "_view_count": null,
            "_view_module_version": "1.2.0",
            "bar_color": null,
            "_model_module": "@jupyter-widgets/controls"
          }
        },
        "494eb9267faf444483cb4f4c380ec0b8": {
          "model_module": "@jupyter-widgets/base",
          "model_name": "LayoutModel",
          "state": {
            "_view_name": "LayoutView",
            "grid_template_rows": null,
            "right": null,
            "justify_content": null,
            "_view_module": "@jupyter-widgets/base",
            "overflow": null,
            "_model_module_version": "1.2.0",
            "_view_count": null,
            "flex_flow": null,
            "width": null,
            "min_width": null,
            "border": null,
            "align_items": null,
            "bottom": null,
            "_model_module": "@jupyter-widgets/base",
            "top": null,
            "grid_column": null,
            "overflow_y": null,
            "overflow_x": null,
            "grid_auto_flow": null,
            "grid_area": null,
            "grid_template_columns": null,
            "flex": null,
            "_model_name": "LayoutModel",
            "justify_items": null,
            "grid_row": null,
            "max_height": null,
            "align_content": null,
            "visibility": null,
            "align_self": null,
            "height": null,
            "min_height": null,
            "padding": null,
            "grid_auto_rows": null,
            "grid_gap": null,
            "max_width": null,
            "order": null,
            "_view_module_version": "1.2.0",
            "grid_template_areas": null,
            "object_position": null,
            "object_fit": null,
            "grid_auto_columns": null,
            "margin": null,
            "display": null,
            "left": null
          }
        },
        "124c4ea6f0f6487dba56ec8d2031df7f": {
          "model_module": "@jupyter-widgets/controls",
          "model_name": "DescriptionStyleModel",
          "state": {
            "_view_name": "StyleView",
            "_model_name": "DescriptionStyleModel",
            "description_width": "",
            "_view_module": "@jupyter-widgets/base",
            "_model_module_version": "1.5.0",
            "_view_count": null,
            "_view_module_version": "1.2.0",
            "_model_module": "@jupyter-widgets/controls"
          }
        },
        "06b28852f10e49be97e62da66032f1c0": {
          "model_module": "@jupyter-widgets/base",
          "model_name": "LayoutModel",
          "state": {
            "_view_name": "LayoutView",
            "grid_template_rows": null,
            "right": null,
            "justify_content": null,
            "_view_module": "@jupyter-widgets/base",
            "overflow": null,
            "_model_module_version": "1.2.0",
            "_view_count": null,
            "flex_flow": null,
            "width": null,
            "min_width": null,
            "border": null,
            "align_items": null,
            "bottom": null,
            "_model_module": "@jupyter-widgets/base",
            "top": null,
            "grid_column": null,
            "overflow_y": null,
            "overflow_x": null,
            "grid_auto_flow": null,
            "grid_area": null,
            "grid_template_columns": null,
            "flex": null,
            "_model_name": "LayoutModel",
            "justify_items": null,
            "grid_row": null,
            "max_height": null,
            "align_content": null,
            "visibility": null,
            "align_self": null,
            "height": null,
            "min_height": null,
            "padding": null,
            "grid_auto_rows": null,
            "grid_gap": null,
            "max_width": null,
            "order": null,
            "_view_module_version": "1.2.0",
            "grid_template_areas": null,
            "object_position": null,
            "object_fit": null,
            "grid_auto_columns": null,
            "margin": null,
            "display": null,
            "left": null
          }
        },
        "71b969b49ef44af29a7837a4cc704f3a": {
          "model_module": "@jupyter-widgets/controls",
          "model_name": "HBoxModel",
          "state": {
            "_view_name": "HBoxView",
            "_dom_classes": [],
            "_model_name": "HBoxModel",
            "_view_module": "@jupyter-widgets/controls",
            "_model_module_version": "1.5.0",
            "_view_count": null,
            "_view_module_version": "1.5.0",
            "box_style": "",
            "layout": "IPY_MODEL_a2c16426aa8046e59070bffdeb893d8f",
            "_model_module": "@jupyter-widgets/controls",
            "children": [
              "IPY_MODEL_d21ba363755448fa8a3fe525b5cd4bbb",
              "IPY_MODEL_4c34c9394c0c4ad3874cdc384167a3fc"
            ]
          }
        },
        "a2c16426aa8046e59070bffdeb893d8f": {
          "model_module": "@jupyter-widgets/base",
          "model_name": "LayoutModel",
          "state": {
            "_view_name": "LayoutView",
            "grid_template_rows": null,
            "right": null,
            "justify_content": null,
            "_view_module": "@jupyter-widgets/base",
            "overflow": null,
            "_model_module_version": "1.2.0",
            "_view_count": null,
            "flex_flow": null,
            "width": null,
            "min_width": null,
            "border": null,
            "align_items": null,
            "bottom": null,
            "_model_module": "@jupyter-widgets/base",
            "top": null,
            "grid_column": null,
            "overflow_y": null,
            "overflow_x": null,
            "grid_auto_flow": null,
            "grid_area": null,
            "grid_template_columns": null,
            "flex": null,
            "_model_name": "LayoutModel",
            "justify_items": null,
            "grid_row": null,
            "max_height": null,
            "align_content": null,
            "visibility": null,
            "align_self": null,
            "height": null,
            "min_height": null,
            "padding": null,
            "grid_auto_rows": null,
            "grid_gap": null,
            "max_width": null,
            "order": null,
            "_view_module_version": "1.2.0",
            "grid_template_areas": null,
            "object_position": null,
            "object_fit": null,
            "grid_auto_columns": null,
            "margin": null,
            "display": null,
            "left": null
          }
        },
        "d21ba363755448fa8a3fe525b5cd4bbb": {
          "model_module": "@jupyter-widgets/controls",
          "model_name": "FloatProgressModel",
          "state": {
            "_view_name": "ProgressView",
            "style": "IPY_MODEL_a3853424928a4d30b73a330a2c285a9a",
            "_dom_classes": [],
            "description": "Epoch: 100%",
            "_model_name": "FloatProgressModel",
            "bar_style": "success",
            "max": 1,
            "_view_module": "@jupyter-widgets/controls",
            "_model_module_version": "1.5.0",
            "value": 1,
            "_view_count": null,
            "_view_module_version": "1.5.0",
            "orientation": "horizontal",
            "min": 0,
            "description_tooltip": null,
            "_model_module": "@jupyter-widgets/controls",
            "layout": "IPY_MODEL_23f0b79f25f84b78bd64611bbbbc6568"
          }
        },
        "4c34c9394c0c4ad3874cdc384167a3fc": {
          "model_module": "@jupyter-widgets/controls",
          "model_name": "HTMLModel",
          "state": {
            "_view_name": "HTMLView",
            "style": "IPY_MODEL_fda7f27952ef4a9b8b79186f397213fc",
            "_dom_classes": [],
            "description": "",
            "_model_name": "HTMLModel",
            "placeholder": "​",
            "_view_module": "@jupyter-widgets/controls",
            "_model_module_version": "1.5.0",
            "value": " 1/1 [00:56&lt;00:00, 56.65s/it]",
            "_view_count": null,
            "_view_module_version": "1.5.0",
            "description_tooltip": null,
            "_model_module": "@jupyter-widgets/controls",
            "layout": "IPY_MODEL_d9ce2eeeeb3046a99bf804df3b9c6ff9"
          }
        },
        "a3853424928a4d30b73a330a2c285a9a": {
          "model_module": "@jupyter-widgets/controls",
          "model_name": "ProgressStyleModel",
          "state": {
            "_view_name": "StyleView",
            "_model_name": "ProgressStyleModel",
            "description_width": "initial",
            "_view_module": "@jupyter-widgets/base",
            "_model_module_version": "1.5.0",
            "_view_count": null,
            "_view_module_version": "1.2.0",
            "bar_color": null,
            "_model_module": "@jupyter-widgets/controls"
          }
        },
        "23f0b79f25f84b78bd64611bbbbc6568": {
          "model_module": "@jupyter-widgets/base",
          "model_name": "LayoutModel",
          "state": {
            "_view_name": "LayoutView",
            "grid_template_rows": null,
            "right": null,
            "justify_content": null,
            "_view_module": "@jupyter-widgets/base",
            "overflow": null,
            "_model_module_version": "1.2.0",
            "_view_count": null,
            "flex_flow": null,
            "width": null,
            "min_width": null,
            "border": null,
            "align_items": null,
            "bottom": null,
            "_model_module": "@jupyter-widgets/base",
            "top": null,
            "grid_column": null,
            "overflow_y": null,
            "overflow_x": null,
            "grid_auto_flow": null,
            "grid_area": null,
            "grid_template_columns": null,
            "flex": null,
            "_model_name": "LayoutModel",
            "justify_items": null,
            "grid_row": null,
            "max_height": null,
            "align_content": null,
            "visibility": null,
            "align_self": null,
            "height": null,
            "min_height": null,
            "padding": null,
            "grid_auto_rows": null,
            "grid_gap": null,
            "max_width": null,
            "order": null,
            "_view_module_version": "1.2.0",
            "grid_template_areas": null,
            "object_position": null,
            "object_fit": null,
            "grid_auto_columns": null,
            "margin": null,
            "display": null,
            "left": null
          }
        },
        "fda7f27952ef4a9b8b79186f397213fc": {
          "model_module": "@jupyter-widgets/controls",
          "model_name": "DescriptionStyleModel",
          "state": {
            "_view_name": "StyleView",
            "_model_name": "DescriptionStyleModel",
            "description_width": "",
            "_view_module": "@jupyter-widgets/base",
            "_model_module_version": "1.5.0",
            "_view_count": null,
            "_view_module_version": "1.2.0",
            "_model_module": "@jupyter-widgets/controls"
          }
        },
        "d9ce2eeeeb3046a99bf804df3b9c6ff9": {
          "model_module": "@jupyter-widgets/base",
          "model_name": "LayoutModel",
          "state": {
            "_view_name": "LayoutView",
            "grid_template_rows": null,
            "right": null,
            "justify_content": null,
            "_view_module": "@jupyter-widgets/base",
            "overflow": null,
            "_model_module_version": "1.2.0",
            "_view_count": null,
            "flex_flow": null,
            "width": null,
            "min_width": null,
            "border": null,
            "align_items": null,
            "bottom": null,
            "_model_module": "@jupyter-widgets/base",
            "top": null,
            "grid_column": null,
            "overflow_y": null,
            "overflow_x": null,
            "grid_auto_flow": null,
            "grid_area": null,
            "grid_template_columns": null,
            "flex": null,
            "_model_name": "LayoutModel",
            "justify_items": null,
            "grid_row": null,
            "max_height": null,
            "align_content": null,
            "visibility": null,
            "align_self": null,
            "height": null,
            "min_height": null,
            "padding": null,
            "grid_auto_rows": null,
            "grid_gap": null,
            "max_width": null,
            "order": null,
            "_view_module_version": "1.2.0",
            "grid_template_areas": null,
            "object_position": null,
            "object_fit": null,
            "grid_auto_columns": null,
            "margin": null,
            "display": null,
            "left": null
          }
        },
        "5f45b064833943ca8b35b687cb56a2f3": {
          "model_module": "@jupyter-widgets/controls",
          "model_name": "HBoxModel",
          "state": {
            "_view_name": "HBoxView",
            "_dom_classes": [],
            "_model_name": "HBoxModel",
            "_view_module": "@jupyter-widgets/controls",
            "_model_module_version": "1.5.0",
            "_view_count": null,
            "_view_module_version": "1.5.0",
            "box_style": "",
            "layout": "IPY_MODEL_deef3f2c734c40c7a3e2025e8932586d",
            "_model_module": "@jupyter-widgets/controls",
            "children": [
              "IPY_MODEL_979314aef48241658231449e765b557a",
              "IPY_MODEL_3540c3679ba24eebb86d13b90c0df4c5"
            ]
          }
        },
        "deef3f2c734c40c7a3e2025e8932586d": {
          "model_module": "@jupyter-widgets/base",
          "model_name": "LayoutModel",
          "state": {
            "_view_name": "LayoutView",
            "grid_template_rows": null,
            "right": null,
            "justify_content": null,
            "_view_module": "@jupyter-widgets/base",
            "overflow": null,
            "_model_module_version": "1.2.0",
            "_view_count": null,
            "flex_flow": null,
            "width": null,
            "min_width": null,
            "border": null,
            "align_items": null,
            "bottom": null,
            "_model_module": "@jupyter-widgets/base",
            "top": null,
            "grid_column": null,
            "overflow_y": null,
            "overflow_x": null,
            "grid_auto_flow": null,
            "grid_area": null,
            "grid_template_columns": null,
            "flex": null,
            "_model_name": "LayoutModel",
            "justify_items": null,
            "grid_row": null,
            "max_height": null,
            "align_content": null,
            "visibility": null,
            "align_self": null,
            "height": null,
            "min_height": null,
            "padding": null,
            "grid_auto_rows": null,
            "grid_gap": null,
            "max_width": null,
            "order": null,
            "_view_module_version": "1.2.0",
            "grid_template_areas": null,
            "object_position": null,
            "object_fit": null,
            "grid_auto_columns": null,
            "margin": null,
            "display": null,
            "left": null
          }
        },
        "979314aef48241658231449e765b557a": {
          "model_module": "@jupyter-widgets/controls",
          "model_name": "FloatProgressModel",
          "state": {
            "_view_name": "ProgressView",
            "style": "IPY_MODEL_b541a751137244a2afd4dc80a1f254be",
            "_dom_classes": [],
            "description": "Iteration: 100%",
            "_model_name": "FloatProgressModel",
            "bar_style": "success",
            "max": 2,
            "_view_module": "@jupyter-widgets/controls",
            "_model_module_version": "1.5.0",
            "value": 2,
            "_view_count": null,
            "_view_module_version": "1.5.0",
            "orientation": "horizontal",
            "min": 0,
            "description_tooltip": null,
            "_model_module": "@jupyter-widgets/controls",
            "layout": "IPY_MODEL_5a6693efcc824294bbf9daedc21da49e"
          }
        },
        "3540c3679ba24eebb86d13b90c0df4c5": {
          "model_module": "@jupyter-widgets/controls",
          "model_name": "HTMLModel",
          "state": {
            "_view_name": "HTMLView",
            "style": "IPY_MODEL_5d6529de7d5643179aa283f8001c335e",
            "_dom_classes": [],
            "description": "",
            "_model_name": "HTMLModel",
            "placeholder": "​",
            "_view_module": "@jupyter-widgets/controls",
            "_model_module_version": "1.5.0",
            "value": " 2/2 [00:02&lt;00:00,  1.47s/it]",
            "_view_count": null,
            "_view_module_version": "1.5.0",
            "description_tooltip": null,
            "_model_module": "@jupyter-widgets/controls",
            "layout": "IPY_MODEL_7873d02dd61346f39f6afff07da842c8"
          }
        },
        "b541a751137244a2afd4dc80a1f254be": {
          "model_module": "@jupyter-widgets/controls",
          "model_name": "ProgressStyleModel",
          "state": {
            "_view_name": "StyleView",
            "_model_name": "ProgressStyleModel",
            "description_width": "initial",
            "_view_module": "@jupyter-widgets/base",
            "_model_module_version": "1.5.0",
            "_view_count": null,
            "_view_module_version": "1.2.0",
            "bar_color": null,
            "_model_module": "@jupyter-widgets/controls"
          }
        },
        "5a6693efcc824294bbf9daedc21da49e": {
          "model_module": "@jupyter-widgets/base",
          "model_name": "LayoutModel",
          "state": {
            "_view_name": "LayoutView",
            "grid_template_rows": null,
            "right": null,
            "justify_content": null,
            "_view_module": "@jupyter-widgets/base",
            "overflow": null,
            "_model_module_version": "1.2.0",
            "_view_count": null,
            "flex_flow": null,
            "width": null,
            "min_width": null,
            "border": null,
            "align_items": null,
            "bottom": null,
            "_model_module": "@jupyter-widgets/base",
            "top": null,
            "grid_column": null,
            "overflow_y": null,
            "overflow_x": null,
            "grid_auto_flow": null,
            "grid_area": null,
            "grid_template_columns": null,
            "flex": null,
            "_model_name": "LayoutModel",
            "justify_items": null,
            "grid_row": null,
            "max_height": null,
            "align_content": null,
            "visibility": null,
            "align_self": null,
            "height": null,
            "min_height": null,
            "padding": null,
            "grid_auto_rows": null,
            "grid_gap": null,
            "max_width": null,
            "order": null,
            "_view_module_version": "1.2.0",
            "grid_template_areas": null,
            "object_position": null,
            "object_fit": null,
            "grid_auto_columns": null,
            "margin": null,
            "display": null,
            "left": null
          }
        },
        "5d6529de7d5643179aa283f8001c335e": {
          "model_module": "@jupyter-widgets/controls",
          "model_name": "DescriptionStyleModel",
          "state": {
            "_view_name": "StyleView",
            "_model_name": "DescriptionStyleModel",
            "description_width": "",
            "_view_module": "@jupyter-widgets/base",
            "_model_module_version": "1.5.0",
            "_view_count": null,
            "_view_module_version": "1.2.0",
            "_model_module": "@jupyter-widgets/controls"
          }
        },
        "7873d02dd61346f39f6afff07da842c8": {
          "model_module": "@jupyter-widgets/base",
          "model_name": "LayoutModel",
          "state": {
            "_view_name": "LayoutView",
            "grid_template_rows": null,
            "right": null,
            "justify_content": null,
            "_view_module": "@jupyter-widgets/base",
            "overflow": null,
            "_model_module_version": "1.2.0",
            "_view_count": null,
            "flex_flow": null,
            "width": null,
            "min_width": null,
            "border": null,
            "align_items": null,
            "bottom": null,
            "_model_module": "@jupyter-widgets/base",
            "top": null,
            "grid_column": null,
            "overflow_y": null,
            "overflow_x": null,
            "grid_auto_flow": null,
            "grid_area": null,
            "grid_template_columns": null,
            "flex": null,
            "_model_name": "LayoutModel",
            "justify_items": null,
            "grid_row": null,
            "max_height": null,
            "align_content": null,
            "visibility": null,
            "align_self": null,
            "height": null,
            "min_height": null,
            "padding": null,
            "grid_auto_rows": null,
            "grid_gap": null,
            "max_width": null,
            "order": null,
            "_view_module_version": "1.2.0",
            "grid_template_areas": null,
            "object_position": null,
            "object_fit": null,
            "grid_auto_columns": null,
            "margin": null,
            "display": null,
            "left": null
          }
        }
      }
    }
  },
  "cells": [
    {
      "cell_type": "markdown",
      "metadata": {
        "id": "view-in-github",
        "colab_type": "text"
      },
      "source": [
        "<a href=\"https://colab.research.google.com/github/dk-wei/super-duper-transformer/blob/main/Sentence_Transformers_(Siamese_Network_%2B_Bert)_Modeling.ipynb\" target=\"_parent\"><img src=\"https://colab.research.google.com/assets/colab-badge.svg\" alt=\"Open In Colab\"/></a>"
      ]
    },
    {
      "cell_type": "code",
      "metadata": {
        "colab": {
          "base_uri": "https://localhost:8080/"
        },
        "id": "r7X5gUeoxmxj",
        "outputId": "d27cd747-d903-4f5a-a7ba-549d0a3a1d6c"
      },
      "source": [
        "import torch \n",
        "print(torch.__version__)"
      ],
      "execution_count": 1,
      "outputs": [
        {
          "output_type": "stream",
          "text": [
            "1.8.0+cu101\n"
          ],
          "name": "stdout"
        }
      ]
    },
    {
      "cell_type": "code",
      "metadata": {
        "colab": {
          "base_uri": "https://localhost:8080/"
        },
        "id": "-4wyRV_3vYwy",
        "outputId": "7f860bf9-dd13-4503-fbde-41e4c7789838"
      },
      "source": [
        "!nvidia-smi"
      ],
      "execution_count": 2,
      "outputs": [
        {
          "output_type": "stream",
          "text": [
            "Sun Mar 21 20:11:42 2021       \n",
            "+-----------------------------------------------------------------------------+\n",
            "| NVIDIA-SMI 460.56       Driver Version: 460.32.03    CUDA Version: 11.2     |\n",
            "|-------------------------------+----------------------+----------------------+\n",
            "| GPU  Name        Persistence-M| Bus-Id        Disp.A | Volatile Uncorr. ECC |\n",
            "| Fan  Temp  Perf  Pwr:Usage/Cap|         Memory-Usage | GPU-Util  Compute M. |\n",
            "|                               |                      |               MIG M. |\n",
            "|===============================+======================+======================|\n",
            "|   0  Tesla T4            Off  | 00000000:00:04.0 Off |                    0 |\n",
            "| N/A   74C    P0    33W /  70W |      0MiB / 15109MiB |      0%      Default |\n",
            "|                               |                      |                  N/A |\n",
            "+-------------------------------+----------------------+----------------------+\n",
            "                                                                               \n",
            "+-----------------------------------------------------------------------------+\n",
            "| Processes:                                                                  |\n",
            "|  GPU   GI   CI        PID   Type   Process name                  GPU Memory |\n",
            "|        ID   ID                                                   Usage      |\n",
            "|=============================================================================|\n",
            "|  No running processes found                                                 |\n",
            "+-----------------------------------------------------------------------------+\n"
          ],
          "name": "stdout"
        }
      ]
    },
    {
      "cell_type": "code",
      "metadata": {
        "id": "OxeY4vPqXTBn"
      },
      "source": [
        "#!pip freeze"
      ],
      "execution_count": 3,
      "outputs": []
    },
    {
      "cell_type": "code",
      "metadata": {
        "id": "4-uUgZAjs-2_",
        "colab": {
          "base_uri": "https://localhost:8080/"
        },
        "outputId": "df168fe8-7603-49fd-c9b2-8526292ecccc"
      },
      "source": [
        "!pip install -U sentence-transformers==1.0.0"
      ],
      "execution_count": 4,
      "outputs": [
        {
          "output_type": "stream",
          "text": [
            "Requirement already up-to-date: sentence-transformers==1.0.0 in /usr/local/lib/python3.7/dist-packages (1.0.0)\n",
            "Requirement already satisfied, skipping upgrade: tqdm in /usr/local/lib/python3.7/dist-packages (from sentence-transformers==1.0.0) (4.41.1)\n",
            "Requirement already satisfied, skipping upgrade: scipy in /usr/local/lib/python3.7/dist-packages (from sentence-transformers==1.0.0) (1.4.1)\n",
            "Requirement already satisfied, skipping upgrade: numpy in /usr/local/lib/python3.7/dist-packages (from sentence-transformers==1.0.0) (1.19.5)\n",
            "Requirement already satisfied, skipping upgrade: scikit-learn in /usr/local/lib/python3.7/dist-packages (from sentence-transformers==1.0.0) (0.22.2.post1)\n",
            "Requirement already satisfied, skipping upgrade: nltk in /usr/local/lib/python3.7/dist-packages (from sentence-transformers==1.0.0) (3.2.5)\n",
            "Requirement already satisfied, skipping upgrade: transformers<5.0.0,>=3.1.0 in /usr/local/lib/python3.7/dist-packages (from sentence-transformers==1.0.0) (4.4.2)\n",
            "Requirement already satisfied, skipping upgrade: sentencepiece in /usr/local/lib/python3.7/dist-packages (from sentence-transformers==1.0.0) (0.1.95)\n",
            "Requirement already satisfied, skipping upgrade: torch>=1.6.0 in /usr/local/lib/python3.7/dist-packages (from sentence-transformers==1.0.0) (1.8.0+cu101)\n",
            "Requirement already satisfied, skipping upgrade: joblib>=0.11 in /usr/local/lib/python3.7/dist-packages (from scikit-learn->sentence-transformers==1.0.0) (1.0.1)\n",
            "Requirement already satisfied, skipping upgrade: six in /usr/local/lib/python3.7/dist-packages (from nltk->sentence-transformers==1.0.0) (1.15.0)\n",
            "Requirement already satisfied, skipping upgrade: importlib-metadata; python_version < \"3.8\" in /usr/local/lib/python3.7/dist-packages (from transformers<5.0.0,>=3.1.0->sentence-transformers==1.0.0) (3.7.2)\n",
            "Requirement already satisfied, skipping upgrade: tokenizers<0.11,>=0.10.1 in /usr/local/lib/python3.7/dist-packages (from transformers<5.0.0,>=3.1.0->sentence-transformers==1.0.0) (0.10.1)\n",
            "Requirement already satisfied, skipping upgrade: sacremoses in /usr/local/lib/python3.7/dist-packages (from transformers<5.0.0,>=3.1.0->sentence-transformers==1.0.0) (0.0.43)\n",
            "Requirement already satisfied, skipping upgrade: regex!=2019.12.17 in /usr/local/lib/python3.7/dist-packages (from transformers<5.0.0,>=3.1.0->sentence-transformers==1.0.0) (2019.12.20)\n",
            "Requirement already satisfied, skipping upgrade: filelock in /usr/local/lib/python3.7/dist-packages (from transformers<5.0.0,>=3.1.0->sentence-transformers==1.0.0) (3.0.12)\n",
            "Requirement already satisfied, skipping upgrade: packaging in /usr/local/lib/python3.7/dist-packages (from transformers<5.0.0,>=3.1.0->sentence-transformers==1.0.0) (20.9)\n",
            "Requirement already satisfied, skipping upgrade: requests in /usr/local/lib/python3.7/dist-packages (from transformers<5.0.0,>=3.1.0->sentence-transformers==1.0.0) (2.23.0)\n",
            "Requirement already satisfied, skipping upgrade: typing-extensions in /usr/local/lib/python3.7/dist-packages (from torch>=1.6.0->sentence-transformers==1.0.0) (3.7.4.3)\n",
            "Requirement already satisfied, skipping upgrade: zipp>=0.5 in /usr/local/lib/python3.7/dist-packages (from importlib-metadata; python_version < \"3.8\"->transformers<5.0.0,>=3.1.0->sentence-transformers==1.0.0) (3.4.1)\n",
            "Requirement already satisfied, skipping upgrade: click in /usr/local/lib/python3.7/dist-packages (from sacremoses->transformers<5.0.0,>=3.1.0->sentence-transformers==1.0.0) (7.1.2)\n",
            "Requirement already satisfied, skipping upgrade: pyparsing>=2.0.2 in /usr/local/lib/python3.7/dist-packages (from packaging->transformers<5.0.0,>=3.1.0->sentence-transformers==1.0.0) (2.4.7)\n",
            "Requirement already satisfied, skipping upgrade: certifi>=2017.4.17 in /usr/local/lib/python3.7/dist-packages (from requests->transformers<5.0.0,>=3.1.0->sentence-transformers==1.0.0) (2020.12.5)\n",
            "Requirement already satisfied, skipping upgrade: chardet<4,>=3.0.2 in /usr/local/lib/python3.7/dist-packages (from requests->transformers<5.0.0,>=3.1.0->sentence-transformers==1.0.0) (3.0.4)\n",
            "Requirement already satisfied, skipping upgrade: urllib3!=1.25.0,!=1.25.1,<1.26,>=1.21.1 in /usr/local/lib/python3.7/dist-packages (from requests->transformers<5.0.0,>=3.1.0->sentence-transformers==1.0.0) (1.24.3)\n",
            "Requirement already satisfied, skipping upgrade: idna<3,>=2.5 in /usr/local/lib/python3.7/dist-packages (from requests->transformers<5.0.0,>=3.1.0->sentence-transformers==1.0.0) (2.10)\n"
          ],
          "name": "stdout"
        }
      ]
    },
    {
      "cell_type": "markdown",
      "metadata": {
        "id": "fLtRIz45Ac-z"
      },
      "source": [
        "# Create Split Training Dataset"
      ]
    },
    {
      "cell_type": "code",
      "metadata": {
        "colab": {
          "base_uri": "https://localhost:8080/"
        },
        "id": "X0eTwgHPAXNb",
        "outputId": "3c6d5cb8-cd19-4dad-f03a-9a6e2b54551d"
      },
      "source": [
        "\"\"\"\n",
        "The Quora Duplicate Questions dataset contains questions pairs from Quora (www.quora.com)\n",
        "along with a label whether the two questions are a duplicate, i.e., have an identical itention.\n",
        "Example of a duplicate pair:\n",
        "How do I enhance my English?  AND  How can I become good at English?\n",
        "Example of a non-duplicate pair:\n",
        "How are roads named?   AND    How are airport runways named?\n",
        "More details and the original Quora dataset can be found here:\n",
        "https://www.quora.com/q/quoradata/First-Quora-Dataset-Release-Question-Pairs\n",
        "Dataset: http://qim.fs.quoracdn.net/quora_duplicate_questions.tsv\n",
        "You do not need to run this script. You can download all files from here:\n",
        "https://sbert.net/datasets/quora-duplicate-questions.zip\n",
        "This script does the following:\n",
        "1) After reading the quora_duplicate_questions.tsv, as provided by Quora, we add a transitive closure: If question (A, B) are duplicates and (B, C) are duplicates, than (A, C) must also be a duplicate. We add these missing links.\n",
        "2) Next, we split sentences into train, dev, and test with a ratio of about 85% / 5% / 10%. In contrast to must other Quora data splits, like the split provided by GLUE, we ensure that the three sets are overlap free, i.e., no sentences in dev / test will appear in the train dataset. In order to achieve three distinct datasets, we pick a sentence and then assign all duplicate sentences to this dataset to that repective set\n",
        "3) After distributing sentences to the three dataset split, we create files to facilitate 3 different tasks:\n",
        "    3.1) Classification - Given two sentences, are these a duplicate? This is identical to the orginial Quora task and the task in GLUE, but with the big difference that sentences in dev / test have not been seen in train.\n",
        "    3.2) Duplicate Question Mining - Given a large set of questions, identify all duplicates. The dev set consists of about 50k questions, the test set of about 100k sentences.\n",
        "    3.3) Information Retrieval - Given a question as query, find in a large corpus (~350k questions) the duplicates of the query question.\n",
        "The output consists of the following files:\n",
        "quora_duplicate_questions.tsv - Original file provided by Quora (https://www.quora.com/q/quoradata/First-Quora-Dataset-Release-Question-Pairs)\n",
        "classification/\n",
        "    train/dev/test_pairs.tsv - Distinct sets of question pairs with label for duplicate / non-duplicate. These splits can be used for sentence pair classification tasks\n",
        "duplicate-mining/ - Given a large set of questions, find all duplicates.\n",
        "    _corpus.tsv - Large set of sentences\n",
        "    _duplicates.tsv - All duplicate questions in the respective corpus.tsv\n",
        "information-retrieval/  - Given a large corpus of questions, find the duplicates for a given query\n",
        "    corpus.tsv - This file will be used for train/dev/test. It contains all questions in the corpus\n",
        "    dev/test-queries.tsv - Queries and the respective duplicate questions (QIDs) in the corpus\n",
        "\"\"\"\n",
        "import csv\n",
        "from collections import defaultdict\n",
        "import random\n",
        "import os\n",
        "from sentence_transformers import util\n",
        "\n",
        "\n",
        "random.seed(42)\n",
        "\n",
        "#Get raw file\n",
        "source_file = \"quora-IR-dataset/quora_duplicate_questions.tsv\"\n",
        "os.makedirs('quora-IR-dataset', exist_ok=True)\n",
        "os.makedirs('quora-IR-dataset/graph', exist_ok=True)\n",
        "os.makedirs('quora-IR-dataset/information-retrieval', exist_ok=True)\n",
        "os.makedirs('quora-IR-dataset/classification', exist_ok=True)\n",
        "os.makedirs('quora-IR-dataset/duplicate-mining', exist_ok=True)\n",
        "\n",
        "if not os.path.exists(source_file):\n",
        "    print(\"Download file to\", source_file)\n",
        "    util.http_get('http://qim.fs.quoracdn.net/quora_duplicate_questions.tsv', source_file)\n",
        "\n",
        "#Read pairwise file\n",
        "sentences = {}\n",
        "duplicates = defaultdict(lambda: defaultdict(bool))\n",
        "rows = []\n",
        "with open(source_file, encoding='utf8') as fIn:\n",
        "    reader = csv.DictReader(fIn, delimiter='\\t', quoting=csv.QUOTE_MINIMAL)\n",
        "    for row in reader:\n",
        "        id1 = row['qid1']\n",
        "        id2 = row['qid2']\n",
        "        question1 = row['question1'].replace(\"\\r\", \"\").replace(\"\\n\", \" \").replace(\"\\t\", \" \")\n",
        "        question2 = row['question2'].replace(\"\\r\", \"\").replace(\"\\n\", \" \").replace(\"\\t\", \" \")\n",
        "        is_duplicate = row['is_duplicate']\n",
        "\n",
        "        if question1 == \"\" or question2 == \"\":\n",
        "            continue\n",
        "\n",
        "        sentences[id1] = question1\n",
        "        sentences[id2] = question2\n",
        "\n",
        "        rows.append({'qid1': id1, 'qid2': id2, 'question1': question1, 'question2': question2, 'is_duplicate': is_duplicate})\n",
        "\n",
        "        if is_duplicate == '1':\n",
        "            duplicates[id1][id2] = True\n",
        "            duplicates[id2][id1] = True\n",
        "\n",
        "\n",
        "# Search for (near) exact duplicates\n",
        "# The original Quora duplicate questions dataset is an incomplete annotation,\n",
        "# i.e., there are several duplicate question pairs which are not marked as duplicates.\n",
        "# These missing annotation can make it difficult to compare approaches.\n",
        "# Here we use a simple approach that searches for near identical questions, that only differ in maybe a stopword\n",
        "# We mark these found question pairs also as duplicate to increase the annotation coverage\n",
        "stopwords = set(['a', 'about', 'above', 'after', 'again', 'against', 'ain', 'all', 'am', 'an', 'and', 'any', 'are', 'aren', \"aren't\", 'as', 'at', 'be', 'because', 'been', 'before', 'being', 'below', 'between', 'both', 'but', 'by', 'can', 'couldn', \"couldn't\", 'd', 'did', 'didn', \"didn't\", 'do', 'does', 'doesn', \"doesn't\", 'doing', 'don', \"don't\", 'down', 'during', 'each', 'few', 'for', 'from', 'further', 'had', 'hadn', \"hadn't\", 'has', 'hasn', \"hasn't\", 'have', 'haven', \"haven't\", 'having', 'he', 'her', 'here', 'hers', 'herself', 'him', 'himself', 'his', 'i', 'if', 'in', 'into', 'is', 'isn', \"isn't\", \"it's\", 'its', 'itself', 'just', 'll', 'm', 'ma', 'me', 'mightn', \"mightn't\", 'more', 'most', 'mustn', \"mustn't\", 'my', 'myself', 'needn', \"needn't\", 'no', 'nor', 'not', 'now', 'o', 'of', 'off', 'on', 'once', 'only', 'or', 'other', 'our', 'ours', 'ourselves', 'out', 'over', 'own', 're', 's', 'same', 'shan', \"shan't\", 'she', \"she's\", 'should', \"should've\", 'shouldn', \"shouldn't\", 'so', 'some', 'such', 't', 'than', 'that', \"that'll\", 'the', 'their', 'theirs', 'them', 'themselves', 'then', 'there', 'these', 'they', 'this', 'those', 'through', 'to', 'too', 'under', 'until', 'up', 've', 'very', 'was', 'wasn', \"wasn't\", 'we', 'were', 'weren', \"weren't\", 'which', 'while', 'will', 'with', 'won', \"won't\", 'wouldn', \"wouldn't\", 'y', 'you', \"you'd\", \"you'll\", \"you're\", \"you've\", 'your', 'yours', 'yourself', 'yourselves'])\n",
        "\n",
        "num_new_duplicates = 0\n",
        "sentences_norm = {}\n",
        "\n",
        "for id, sent in sentences.items():\n",
        "    sent_norm = sent.lower()\n",
        "\n",
        "    #Replace some common paraphrases\n",
        "    sent_norm = sent_norm.replace(\"how do you\", \"how do i\").replace(\"how do we\", \"how do i\")\n",
        "    sent_norm = sent_norm.replace(\"how can we\", \"how can i\").replace(\"how can you\", \"how can i\").replace(\"how can i\", \"how do i\")\n",
        "    sent_norm = sent_norm.replace(\"really true\", \"true\")\n",
        "    sent_norm = sent_norm.replace(\"what are the importance\", \"what is the importance\")\n",
        "    sent_norm = sent_norm.replace(\"what was\", \"what is\")\n",
        "    sent_norm = sent_norm.replace(\"so many\", \"many\")\n",
        "    sent_norm = sent_norm.replace(\"would it take\", \"will it take\")\n",
        "\n",
        "    #Remove any punctuation characters\n",
        "    for c in [\",\", \"!\", \".\", \"?\", \"'\", '\"', \":\", \";\", \"[\", \"]\", \"{\", \"}\", \"<\", \">\"]:\n",
        "        sent_norm = sent_norm.replace(c, \" \")\n",
        "\n",
        "    #Remove stop words\n",
        "    tokens = sent_norm.split()\n",
        "    tokens = [token for token in tokens if token not in stopwords]\n",
        "    sent_norm = \"\".join(tokens)\n",
        "\n",
        "\n",
        "    if sent_norm in sentences_norm:\n",
        "        if not duplicates[id][sentences_norm[sent_norm]]:\n",
        "            num_new_duplicates += 1\n",
        "\n",
        "        duplicates[id][sentences_norm[sent_norm]] = True\n",
        "        duplicates[sentences_norm[sent_norm]][id] = True\n",
        "    else:\n",
        "        sentences_norm[sent_norm] = id\n",
        "\n",
        "\n",
        "print(\"(Nearly) exact duplicates found:\", num_new_duplicates)\n",
        "\n",
        "\n",
        "#Add transitive closure (if a,b and b,c duplicates => a,c are duplicates)\n",
        "new_entries = True\n",
        "while new_entries:\n",
        "    print(\"Add transitive closure\")\n",
        "    new_entries = False\n",
        "    for a in sentences:\n",
        "        for b in list(duplicates[a]):\n",
        "            for c in list(duplicates[b]):\n",
        "                if a != c and not duplicates[a][c]:\n",
        "                    new_entries = True\n",
        "                    duplicates[a][c] = True\n",
        "                    duplicates[c][a] = True\n",
        "\n",
        "\n",
        "#Distribute rows to train/dev/test split\n",
        "#Ensure that sets contain distinct sentences\n",
        "is_assigned = set()\n",
        "random.shuffle(rows)\n",
        "\n",
        "train_ids = set()\n",
        "dev_ids = set()\n",
        "test_ids = set()\n",
        "\n",
        "counter = 0\n",
        "for row in rows:\n",
        "    if row['qid1'] in is_assigned and row['qid2'] in is_assigned:\n",
        "        continue\n",
        "    elif row['qid1'] in is_assigned or row['qid2'] in is_assigned:\n",
        "\n",
        "        if row['qid2'] in is_assigned: #Ensure that qid1 is assigned and qid2 not yet\n",
        "            row['qid1'], row['qid2'] = row['qid2'], row['qid1']\n",
        "\n",
        "        #Move qid2 to the same split as qid1\n",
        "        target_set = train_ids\n",
        "        if row['qid1'] in dev_ids:\n",
        "            target_set = dev_ids\n",
        "        elif row['qid1'] in test_ids:\n",
        "            target_set = test_ids\n",
        "\n",
        "    else:\n",
        "        #Distribution about 85%/5%/10%\n",
        "        target_set = train_ids\n",
        "        if counter%10 == 0:\n",
        "            target_set = dev_ids\n",
        "        elif counter%10 == 1 or counter%10 == 2:\n",
        "            target_set = test_ids\n",
        "        counter += 1\n",
        "\n",
        "    #Get the sentence with all duplicates and add it to the respective sets\n",
        "    target_set.add(row['qid1'])\n",
        "    is_assigned.add(row['qid1'])\n",
        "\n",
        "    target_set.add(row['qid2'])\n",
        "    is_assigned.add(row['qid2'])\n",
        "\n",
        "    for b in list(duplicates[row['qid1']])+list(duplicates[row['qid2']]):\n",
        "        target_set.add(b)\n",
        "        is_assigned.add(b)\n",
        "\n",
        "\n",
        "#Assert all sets are mutually exclusive\n",
        "assert len(train_ids.intersection(dev_ids)) == 0\n",
        "assert len(train_ids.intersection(test_ids)) == 0\n",
        "assert len(test_ids.intersection(dev_ids)) == 0\n",
        "\n",
        "\n",
        "print(\"\\nTrain sentences:\", len(train_ids))\n",
        "print(\"Dev sentences:\", len(dev_ids))\n",
        "print(\"Test sentences:\", len(test_ids))\n",
        "\n",
        "#Extract the ids for duplicate questions for train/dev/test\n",
        "def get_duplicate_set(ids_set):\n",
        "    dups_set = set()\n",
        "    for a in ids_set:\n",
        "        for b in duplicates[a]:\n",
        "            ids = sorted([a,b])\n",
        "            dups_set.add(tuple(ids))\n",
        "    return dups_set\n",
        "\n",
        "train_duplicates = get_duplicate_set(train_ids)\n",
        "dev_duplicates = get_duplicate_set(dev_ids)\n",
        "test_duplicates = get_duplicate_set(test_ids)\n",
        "\n",
        "\n",
        "print(\"\\nTrain duplicates\", len(train_duplicates))\n",
        "print(\"Dev duplicates\", len(dev_duplicates))\n",
        "print(\"Test duplicates\", len(test_duplicates))\n",
        "\n",
        "############### Write general files about the duplate questions graph ############\n",
        "with open('quora-IR-dataset/graph/sentences.tsv', 'w', encoding='utf8') as fOut:\n",
        "    fOut.write(\"qid\\tquestion\\n\")\n",
        "    for id, question in sentences.items():\n",
        "        fOut.write(\"{}\\t{}\\n\".format(id, question))\n",
        "\n",
        "duplicates_list = set()\n",
        "for a in duplicates:\n",
        "    for b in duplicates[a]:\n",
        "        duplicates_list.add(tuple(sorted([int(a), int(b)])))\n",
        "\n",
        "\n",
        "duplicates_list = list(duplicates_list)\n",
        "duplicates_list = sorted(duplicates_list, key=lambda x: x[0]*1000000+x[1])\n",
        "\n",
        "\n",
        "print(\"\\nWrite duplicate graph in pairwise format\")\n",
        "with open('quora-IR-dataset/graph/duplicates-graph-pairwise.tsv', 'w', encoding='utf8') as fOut:\n",
        "    fOut.write(\"qid1\\tqid2\\n\")\n",
        "    for a, b in duplicates_list:\n",
        "        fOut.write(\"{}\\t{}\\n\".format(a, b))\n",
        "\n",
        "\n",
        "print(\"Write duplicate graph in list format\")\n",
        "with open('quora-IR-dataset/graph/duplicates-graph-list.tsv', 'w', encoding='utf8') as fOut:\n",
        "    fOut.write(\"qid1\\tqid2\\n\")\n",
        "    for a in sorted(duplicates.keys(), key=lambda x: int(x)):\n",
        "        if len(duplicates[a]) > 0:\n",
        "            fOut.write(\"{}\\t{}\\n\".format(a, \",\".join(sorted(duplicates[a]))))\n",
        "\n",
        "print(\"Write duplicate graph in connected subgraph format\")\n",
        "with open('quora-IR-dataset/graph/duplicates-graph-connected-nodes.tsv', 'w', encoding='utf8') as fOut:\n",
        "    written_qids = set()\n",
        "    fOut.write(\"qids\\n\")\n",
        "    for a in sorted(duplicates.keys(), key=lambda x: int(x)):\n",
        "        if a not in written_qids:\n",
        "            ids = set()\n",
        "            ids.add(a)\n",
        "\n",
        "            for b in duplicates[a]:\n",
        "                ids.add(b)\n",
        "\n",
        "            fOut.write(\"{}\\n\".format(\",\".join(sorted(ids, key=lambda x: int(x)))))\n",
        "            for id in ids:\n",
        "                written_qids.add(id)\n",
        "\n",
        "def write_qids(name, ids_list):\n",
        "    with open('quora-IR-dataset/graph/'+name+'-questions.tsv', 'w', encoding='utf8') as fOut:\n",
        "        fOut.write(\"qid\\n\")\n",
        "        fOut.write(\"\\n\".join(sorted(ids_list, key=lambda x: int(x))))\n",
        "\n",
        "write_qids('train', train_ids)\n",
        "write_qids('dev', dev_ids)\n",
        "write_qids('test', test_ids)\n",
        "\n",
        "\n",
        "####### Output for duplicate mining #######\n",
        "def write_mining_files(name, ids, dups):\n",
        "    with open('quora-IR-dataset/duplicate-mining/'+name+'_corpus.tsv', 'w', encoding='utf8') as fOut:\n",
        "        fOut.write(\"qid\\tquestion\\n\")\n",
        "        for id in ids:\n",
        "            fOut.write(\"{}\\t{}\\n\".format(id, sentences[id]))\n",
        "\n",
        "    with open('quora-IR-dataset/duplicate-mining/'+name+'_duplicates.tsv', 'w', encoding='utf8') as fOut:\n",
        "        fOut.write(\"qid1\\tqid2\\n\")\n",
        "        for a, b in dups:\n",
        "            fOut.write(\"{}\\t{}\\n\".format(a, b))\n",
        "\n",
        "\n",
        "write_mining_files('train', train_ids, train_duplicates)\n",
        "write_mining_files('dev', dev_ids, dev_duplicates)\n",
        "write_mining_files('test', test_ids, test_duplicates)\n",
        "\n",
        "\n",
        "###### Classification dataset #####\n",
        "with open('quora-IR-dataset/classification/train_pairs.tsv', 'w', encoding='utf8') as fOutTrain, open('quora-IR-dataset/classification/dev_pairs.tsv', 'w', encoding='utf8') as fOutDev, open('quora-IR-dataset/classification/test_pairs.tsv', 'w', encoding='utf8') as fOutTest:\n",
        "    fOutTrain.write(\"\\t\".join(['qid1', 'qid2', 'question1', 'question2', 'is_duplicate'])+\"\\n\")\n",
        "    fOutDev.write(\"\\t\".join(['qid1', 'qid2', 'question1', 'question2', 'is_duplicate']) + \"\\n\")\n",
        "    fOutTest.write(\"\\t\".join(['qid1', 'qid2', 'question1', 'question2', 'is_duplicate']) + \"\\n\")\n",
        "\n",
        "    for row in rows:\n",
        "        id1 = row['qid1']\n",
        "        id2 = row['qid2']\n",
        "\n",
        "        target = None\n",
        "        if id1 in train_ids and id2 in train_ids:\n",
        "            target = fOutTrain\n",
        "        elif id1 in dev_ids and id2 in dev_ids:\n",
        "            target = fOutDev\n",
        "        elif id1 in test_ids and id2 in test_ids:\n",
        "            target = fOutTest\n",
        "\n",
        "        if target is not None:\n",
        "            target.write(\"\\t\".join([row['qid1'], row['qid2'], sentences[id1], sentences[id2], row['is_duplicate']]))\n",
        "            target.write(\"\\n\")\n",
        "\n",
        "\n",
        "####### Write files for Information Retrieval #####\n",
        "num_dev_queries = 5000\n",
        "num_test_queries = 10000\n",
        "\n",
        "corpus_ids = train_ids.copy()\n",
        "dev_queries = set()\n",
        "test_queries = set()\n",
        "\n",
        "#Create dev queries\n",
        "rnd_dev_ids = sorted(list(dev_ids))\n",
        "random.shuffle(rnd_dev_ids)\n",
        "\n",
        "for a in rnd_dev_ids:\n",
        "    if a not in corpus_ids:\n",
        "        if len(dev_queries) < num_dev_queries and len(duplicates[a]) > 0:\n",
        "            dev_queries.add(a)\n",
        "        else:\n",
        "            corpus_ids.add(a)\n",
        "\n",
        "        for b in duplicates[a]:\n",
        "            if b not in dev_queries:\n",
        "                corpus_ids.add(b)\n",
        "\n",
        "#Create test queries\n",
        "rnd_test_ids = sorted(list(test_ids))\n",
        "random.shuffle(rnd_test_ids)\n",
        "\n",
        "for a in rnd_test_ids:\n",
        "    if a not in corpus_ids:\n",
        "        if len(test_queries) < num_test_queries and len(duplicates[a]) > 0:\n",
        "            test_queries.add(a)\n",
        "        else:\n",
        "            corpus_ids.add(a)\n",
        "\n",
        "        for b in duplicates[a]:\n",
        "            if b not in test_queries:\n",
        "                corpus_ids.add(b)\n",
        "\n",
        "#Write output for information-retrieval\n",
        "print(\"\\nInformation Retrival Setup\")\n",
        "print(\"Corpus size:\", len(corpus_ids))\n",
        "print(\"Dev queries:\", len(dev_queries))\n",
        "print(\"Test queries:\", len(test_queries))\n",
        "\n",
        "with open('quora-IR-dataset/information-retrieval/corpus.tsv', 'w', encoding='utf8') as fOut:\n",
        "    fOut.write(\"qid\\tquestion\\n\")\n",
        "    for id in sorted(corpus_ids, key=lambda id: int(id)):\n",
        "        fOut.write(\"{}\\t{}\\n\".format(id, sentences[id]))\n",
        "\n",
        "with open('quora-IR-dataset/information-retrieval/dev-queries.tsv', 'w', encoding='utf8') as fOut:\n",
        "    fOut.write(\"qid\\tquestion\\tduplicate_qids\\n\")\n",
        "    for id in sorted(dev_queries, key=lambda id: int(id)):\n",
        "        fOut.write(\"{}\\t{}\\t{}\\n\".format(id, sentences[id], \",\".join(duplicates[id])))\n",
        "\n",
        "with open('quora-IR-dataset/information-retrieval/test-queries.tsv', 'w', encoding='utf8') as fOut:\n",
        "    fOut.write(\"qid\\tquestion\\tduplicate_qids\\n\")\n",
        "    for id in sorted(test_queries, key=lambda id: int(id)):\n",
        "        fOut.write(\"{}\\t{}\\t{}\\n\".format(id, sentences[id], \",\".join(duplicates[id])))\n",
        "\n",
        "\n",
        "print(\"--DONE--\")"
      ],
      "execution_count": 5,
      "outputs": [
        {
          "output_type": "stream",
          "text": [
            "(Nearly) exact duplicates found: 6328\n",
            "Add transitive closure\n",
            "Add transitive closure\n",
            "Add transitive closure\n",
            "\n",
            "Train sentences: 376493\n",
            "Dev sentences: 53485\n",
            "Test sentences: 107953\n",
            "\n",
            "Train duplicates 217838\n",
            "Dev duplicates 20017\n",
            "Test duplicates 65350\n",
            "\n",
            "Write duplicate graph in pairwise format\n",
            "Write duplicate graph in list format\n",
            "Write duplicate graph in connected subgraph format\n",
            "\n",
            "Information Retrival Setup\n",
            "Corpus size: 522931\n",
            "Dev queries: 5000\n",
            "Test queries: 10000\n",
            "--DONE--\n"
          ],
          "name": "stdout"
        }
      ]
    },
    {
      "cell_type": "markdown",
      "metadata": {
        "id": "71iv5LmCvQyH"
      },
      "source": [
        "# Quora Duplicate Questions Training (MultipleNegativesRankingLoss)"
      ]
    },
    {
      "cell_type": "code",
      "metadata": {
        "colab": {
          "base_uri": "https://localhost:8080/"
        },
        "id": "0WZOcOUexIJP",
        "outputId": "8a912d7e-9857-4a2c-f7c6-7c6d2cc7ec02"
      },
      "source": [
        "from torch.utils.data import DataLoader\n",
        "from sentence_transformers import losses, util\n",
        "from sentence_transformers import LoggingHandler, SentenceTransformer, evaluation\n",
        "from sentence_transformers.readers import InputExample\n",
        "import logging\n",
        "from datetime import datetime\n",
        "import csv\n",
        "import os\n",
        "from zipfile import ZipFile\n",
        "import random\n",
        "\n",
        "#### Just some code to print debug information to stdout\n",
        "logging.basicConfig(format='%(asctime)s - %(message)s',\n",
        "                    datefmt='%Y-%m-%d %H:%M:%S',\n",
        "                    level=logging.INFO,\n",
        "                    handlers=[LoggingHandler()])\n",
        "logger = logging.getLogger(__name__)\n",
        "#### /print debug information to stdout\n",
        "\n",
        "\n",
        "#As base model, we use DistilBERT-base that was pre-trained on NLI and STSb data\n",
        "model = SentenceTransformer('stsb-distilbert-base')\n",
        "#model = SentenceTransformer('distilbert-base-nli-stsb-quora-ranking')\n",
        "\n",
        "#Training for multiple epochs can be beneficial, as in each epoch a mini-batch is sampled differently\n",
        "#hence, we get different negatives for each positive\n",
        "num_epochs = 1\n",
        "\n",
        "#Increasing the batch size improves the performance for MultipleNegativesRankingLoss. Choose it as large as possible\n",
        "#I achieved the good results with a batch size of 300-350 (requires about 30 GB of GPU memory)\n",
        "train_batch_size = 64\n",
        "\n",
        "dataset_path = 'quora-IR-dataset'\n",
        "model_save_path = 'output/training_MultipleNegativesRankingLoss-' + datetime.now().strftime(\"%Y-%m-%d_%H-%M-%S\")\n",
        "#eval_save_path = 'output/evaluation_MultipleNegativesRankingLoss-'+datetime.now().strftime(\"%Y-%m-%d_%H-%M-%S\")\n",
        "\n",
        "os.makedirs(model_save_path, exist_ok=True)\n",
        "\n",
        "# Check if the dataset exists. If not, download and extract\n",
        "if not os.path.exists(dataset_path):\n",
        "    logger.info(\"Dataset not found. Download\")\n",
        "    zip_save_path = 'quora-IR-dataset.zip'\n",
        "    util.http_get(url='https://sbert.net/datasets/quora-IR-dataset.zip', path=zip_save_path)\n",
        "    with ZipFile(zip_save_path, 'r') as zip:\n",
        "        zip.extractall(dataset_path)"
      ],
      "execution_count": 6,
      "outputs": [
        {
          "output_type": "stream",
          "text": [
            "2021-03-21 20:12:17 - Load pretrained SentenceTransformer: stsb-distilbert-base\n",
            "2021-03-21 20:12:17 - Did not find folder stsb-distilbert-base\n",
            "2021-03-21 20:12:17 - Search model on server: http://sbert.net/models/stsb-distilbert-base.zip\n",
            "2021-03-21 20:12:17 - Load SentenceTransformer from folder: /root/.cache/torch/sentence_transformers/sbert.net_models_stsb-distilbert-base\n",
            "2021-03-21 20:12:18 - Use pytorch device: cuda\n"
          ],
          "name": "stdout"
        }
      ]
    },
    {
      "cell_type": "code",
      "metadata": {
        "id": "FnY7ejP2Izzl"
      },
      "source": [
        "######### Read train data  ##########\n",
        "train_samples = []\n",
        "max_train_samples = 100\n",
        "\n",
        "with open(os.path.join(dataset_path, \"classification/train_pairs.tsv\"), encoding='utf8') as fIn:\n",
        "    reader = csv.DictReader(fIn, delimiter='\\t', quoting=csv.QUOTE_NONE)\n",
        "    for row in reader:\n",
        "      # Counter += 1\n",
        "      if row['is_duplicate'] == '1':\n",
        "          train_samples.append(InputExample(texts=[row['question1'], row['question2']], label=1))\n",
        "          train_samples.append(InputExample(texts=[row['question2'], row['question1']], label=1)) #if A is a duplicate of B, then B is a duplicate of A\n",
        "\n",
        "          if len(train_samples) >= max_train_samples:\n",
        "            break\n",
        "\n",
        "# After reading the train_samples, we create a DataLoader\n",
        "train_dataloader = DataLoader(train_samples, shuffle=True, batch_size=train_batch_size)\n",
        "train_loss = losses.MultipleNegativesRankingLoss(model)"
      ],
      "execution_count": 7,
      "outputs": []
    },
    {
      "cell_type": "code",
      "metadata": {
        "id": "q85NJEgJIzwm"
      },
      "source": [
        "################### Development  Evaluators ##################\n",
        "# We add 3 evaluators, that evaluate the model on Duplicate Questions pair classification,\n",
        "# Duplicate Questions Mining, and Duplicate Questions Information Retrieval\n",
        "evaluators = []"
      ],
      "execution_count": 8,
      "outputs": []
    },
    {
      "cell_type": "code",
      "metadata": {
        "id": "92cjI5cqLyGY"
      },
      "source": [
        "###### Classification ######\n",
        "# Given (quesiton1, question2), is this a duplicate or not?\n",
        "# The evaluator will compute the embeddings for both questions and then compute\n",
        "# a cosine similarity. If the similarity is above a threshold, we have a duplicate.\n",
        "dev_sentences1 = []\n",
        "dev_sentences2 = []\n",
        "dev_labels = []\n",
        "max_dev_pair_samples = 1000\n",
        "\n",
        "with open(os.path.join(dataset_path, \"classification/dev_pairs.tsv\"), encoding='utf8') as fIn:\n",
        "    reader = csv.DictReader(fIn, delimiter='\\t', quoting=csv.QUOTE_NONE)\n",
        "    for row in reader:\n",
        "        dev_sentences1.append(row['question1'])\n",
        "        dev_sentences2.append(row['question2'])\n",
        "        dev_labels.append(int(row['is_duplicate']))\n",
        "\n",
        "        if len(dev_sentences1) >= max_dev_pair_samples:\n",
        "            break\n",
        "\n",
        "\n",
        "binary_acc_evaluator = evaluation.BinaryClassificationEvaluator(dev_sentences1, dev_sentences2, dev_labels)\n",
        "evaluators.append(binary_acc_evaluator)"
      ],
      "execution_count": 9,
      "outputs": []
    },
    {
      "cell_type": "code",
      "metadata": {
        "id": "KcnBsMX3Izt4"
      },
      "source": [
        "###### Duplicate Questions Mining ######\n",
        "# Given a large corpus of questions, identify all duplicates in that corpus.\n",
        "# For faster processing, we limit the development corpus to only 10,000 sentences.\n",
        "max_dev_samples = 100000\n",
        "dev_sentences = {}\n",
        "dev_duplicates = []\n",
        "\n",
        "with open(os.path.join(dataset_path, \"duplicate-mining/dev_corpus.tsv\"), encoding='utf8') as fIn:\n",
        "    reader = csv.DictReader(fIn, delimiter='\\t', quoting=csv.QUOTE_NONE)\n",
        "    for row in reader:\n",
        "        dev_sentences[row['qid']] = row['question']\n",
        "\n",
        "        if len(dev_sentences) >= max_dev_samples:\n",
        "            break\n",
        "\n",
        "with open(os.path.join(dataset_path, \"duplicate-mining/dev_duplicates.tsv\"), encoding='utf8') as fIn:\n",
        "    reader = csv.DictReader(fIn, delimiter='\\t', quoting=csv.QUOTE_NONE)\n",
        "    for row in reader:\n",
        "        if row['qid1'] in dev_sentences and row['qid2'] in dev_sentences:\n",
        "            dev_duplicates.append([row['qid1'], row['qid2']])\n",
        "\n",
        "# The ParaphraseMiningEvaluator computes the cosine similarity between all sentences and\n",
        "# extracts a list with the pairs that have the highest similarity. Given the duplicate\n",
        "# information in dev_duplicates, it then computes and F1 score how well our duplicate mining worked\n",
        "paraphrase_mining_evaluator = evaluation.ParaphraseMiningEvaluator(dev_sentences, dev_duplicates, name='dev')\n",
        "evaluators.append(paraphrase_mining_evaluator)"
      ],
      "execution_count": 10,
      "outputs": []
    },
    {
      "cell_type": "code",
      "metadata": {
        "id": "rH0ABmgwtIEV"
      },
      "source": [
        "###### Duplicate Questions Information Retrieval ######\n",
        "# Given a new question and a large corpus of thousands questions, find the most relevant (i.e. duplicate) question\n",
        "# in that corpus.\n",
        "\n",
        "# For faster processing, we limit the development corpus to only 10,000 sentences.\n",
        "max_corpus_size = 100000\n",
        "\n",
        "ir_queries = {}             #Our queries (qid => question)\n",
        "ir_needed_qids = set()      #QIDs we need in the corpus\n",
        "ir_corpus = {}              #Our corpus (qid => question)\n",
        "ir_relevant_docs = {}       #Mapping of relevant documents for a given query (qid => set([relevant_question_ids])\n",
        "\n",
        "with open(os.path.join(dataset_path, 'information-retrieval/dev-queries.tsv'), encoding='utf8') as fIn:\n",
        "    next(fIn) #Skip header\n",
        "    for line in fIn:\n",
        "        qid, query, duplicate_ids = line.strip().split('\\t')\n",
        "        duplicate_ids = duplicate_ids.split(',')\n",
        "        ir_queries[qid] = query\n",
        "        ir_relevant_docs[qid] = set(duplicate_ids)\n",
        "\n",
        "        for qid in duplicate_ids:\n",
        "            ir_needed_qids.add(qid)\n",
        "\n",
        "# First get all needed relevant documents (i.e., we must ensure, that the relevant questions are actually in the corpus\n",
        "distraction_questions = {}\n",
        "with open(os.path.join(dataset_path, 'information-retrieval/corpus.tsv'), encoding='utf8') as fIn:\n",
        "    next(fIn) #Skip header\n",
        "    for line in fIn:\n",
        "        qid, question = line.strip().split('\\t')\n",
        "\n",
        "        if qid in ir_needed_qids:\n",
        "            ir_corpus[qid] = question\n",
        "        else:\n",
        "            distraction_questions[qid] = question\n",
        "\n",
        "# Now, also add some irrelevant questions to fill our corpus\n",
        "other_qid_list = list(distraction_questions.keys())\n",
        "random.shuffle(other_qid_list)\n",
        "\n",
        "for qid in other_qid_list[0:max(0, max_corpus_size-len(ir_corpus))]:\n",
        "    ir_corpus[qid] = distraction_questions[qid]\n",
        "\n",
        "#Given queries, a corpus and a mapping with relevant documents, the InformationRetrievalEvaluator computes different IR\n",
        "# metrices. For our use case MRR@k and Accuracy@k are relevant.\n",
        "ir_evaluator = evaluation.InformationRetrievalEvaluator(ir_queries, ir_corpus, ir_relevant_docs)\n",
        "\n",
        "evaluators.append(ir_evaluator)"
      ],
      "execution_count": 11,
      "outputs": []
    },
    {
      "cell_type": "code",
      "metadata": {
        "colab": {
          "base_uri": "https://localhost:8080/"
        },
        "id": "wopmOdd2RNkb",
        "outputId": "e2fb9874-a69e-48f0-d934-7add095d1fc7"
      },
      "source": [
        "evaluators"
      ],
      "execution_count": 12,
      "outputs": [
        {
          "output_type": "execute_result",
          "data": {
            "text/plain": [
              "[<sentence_transformers.evaluation.BinaryClassificationEvaluator.BinaryClassificationEvaluator at 0x7f0a00798250>,\n",
              " <sentence_transformers.evaluation.ParaphraseMiningEvaluator.ParaphraseMiningEvaluator at 0x7f0a1182afd0>,\n",
              " <sentence_transformers.evaluation.InformationRetrievalEvaluator.InformationRetrievalEvaluator at 0x7f098e487f10>]"
            ]
          },
          "metadata": {
            "tags": []
          },
          "execution_count": 12
        }
      ]
    },
    {
      "cell_type": "code",
      "metadata": {
        "colab": {
          "base_uri": "https://localhost:8080/",
          "height": 450,
          "referenced_widgets": [
            "75b5fac6d25f48c38122773cb39d301e",
            "1cb7072f7428475381653058e845aa95",
            "084860689f894ff59886adc91ca0dec9",
            "2886728d73354fd1af256782e9ef7621",
            "65ef7f16b507436b9c11c8dd4bcab700",
            "b3ed0426c43b4eb4a3feb59173f7b930",
            "87d057245dc4471c84887e82c21d39b3",
            "aea39426f1384d2191fe2f05dd53cde5",
            "ed007cb3d4df432682bb51772c3348a3",
            "4b04ab97d8384bfca1f6cab861167660",
            "53031e572e3c4af583799ae006286b1a",
            "e77616d21bdd40198defd4a0255632d6",
            "5754c0632177416b97763c070bbb7c7c",
            "494eb9267faf444483cb4f4c380ec0b8",
            "124c4ea6f0f6487dba56ec8d2031df7f",
            "06b28852f10e49be97e62da66032f1c0"
          ]
        },
        "id": "caJp75Lgr-Zr",
        "outputId": "a65ae863-e698-4e30-dd06-2ecf42a29855"
      },
      "source": [
        "# Create a SequentialEvaluator. This SequentialEvaluator runs all three evaluators in a sequential order.\n",
        "# We optimize the model with respect to the score from the last evaluator (scores[-1])\n",
        "seq_evaluator = evaluation.SequentialEvaluator(evaluators, main_score_function=lambda scores: scores[-1])\n",
        "\n",
        "logger.info(\"Evaluate model without training\")\n",
        "#seq_evaluator(model, epoch=1, steps=0, output_path=model_save_path)\n",
        "model.evaluate(evaluators[1])\n",
        "\n",
        "logger.info(\"Evaluate model with training\")\n",
        "# Train the model\n",
        "model.fit(train_objectives=[(train_dataloader, train_loss)],\n",
        "          #evaluator=seq_evaluator,\n",
        "          evaluator=evaluators[1],\n",
        "          epochs=num_epochs,\n",
        "          warmup_steps=1000,\n",
        "          output_path=model_save_path\n",
        "          )"
      ],
      "execution_count": 13,
      "outputs": [
        {
          "output_type": "stream",
          "text": [
            "2021-03-21 20:12:20 - Evaluate model without training\n",
            "2021-03-21 20:12:20 - Paraphrase Mining Evaluation on dev dataset:\n",
            "2021-03-21 20:13:20 - Number of candidate pairs: 265139\n",
            "2021-03-21 20:13:21 - Average Precision: 42.00\n",
            "2021-03-21 20:13:21 - Optimal threshold: 0.8632\n",
            "2021-03-21 20:13:21 - Precision: 48.78\n",
            "2021-03-21 20:13:21 - Recall: 43.95\n",
            "2021-03-21 20:13:21 - F1: 46.24\n",
            "\n",
            "2021-03-21 20:13:21 - Evaluate model with training\n"
          ],
          "name": "stdout"
        },
        {
          "output_type": "display_data",
          "data": {
            "application/vnd.jupyter.widget-view+json": {
              "model_id": "75b5fac6d25f48c38122773cb39d301e",
              "version_minor": 0,
              "version_major": 2
            },
            "text/plain": [
              "HBox(children=(FloatProgress(value=0.0, description='Epoch', max=1.0, style=ProgressStyle(description_width='i…"
            ]
          },
          "metadata": {
            "tags": []
          }
        },
        {
          "output_type": "display_data",
          "data": {
            "application/vnd.jupyter.widget-view+json": {
              "model_id": "ed007cb3d4df432682bb51772c3348a3",
              "version_minor": 0,
              "version_major": 2
            },
            "text/plain": [
              "HBox(children=(FloatProgress(value=0.0, description='Iteration', max=2.0, style=ProgressStyle(description_widt…"
            ]
          },
          "metadata": {
            "tags": []
          }
        },
        {
          "output_type": "stream",
          "text": [
            "\n",
            "2021-03-21 20:13:22 - Paraphrase Mining Evaluation on dev dataset after epoch 0:\n",
            "2021-03-21 20:14:19 - Number of candidate pairs: 265138\n",
            "2021-03-21 20:14:20 - Average Precision: 41.99\n",
            "2021-03-21 20:14:20 - Optimal threshold: 0.8632\n",
            "2021-03-21 20:14:20 - Precision: 48.78\n",
            "2021-03-21 20:14:20 - Recall: 43.95\n",
            "2021-03-21 20:14:20 - F1: 46.24\n",
            "\n",
            "2021-03-21 20:14:20 - Save model to output/training_MultipleNegativesRankingLoss-2021-03-21_20-12-18\n",
            "\n"
          ],
          "name": "stdout"
        }
      ]
    },
    {
      "cell_type": "code",
      "metadata": {
        "id": "IPG4c3-n26kH"
      },
      "source": [
        ""
      ],
      "execution_count": 13,
      "outputs": []
    },
    {
      "cell_type": "code",
      "metadata": {
        "id": "SAsB-M4b26hO"
      },
      "source": [
        ""
      ],
      "execution_count": 13,
      "outputs": []
    },
    {
      "cell_type": "code",
      "metadata": {
        "id": "R6WZc7EM26fq"
      },
      "source": [
        ""
      ],
      "execution_count": 13,
      "outputs": []
    },
    {
      "cell_type": "code",
      "metadata": {
        "id": "lAZzhrYr26cQ"
      },
      "source": [
        ""
      ],
      "execution_count": 13,
      "outputs": []
    },
    {
      "cell_type": "code",
      "metadata": {
        "id": "HB339F-V26ZE"
      },
      "source": [
        ""
      ],
      "execution_count": 13,
      "outputs": []
    },
    {
      "cell_type": "markdown",
      "metadata": {
        "id": "8vfB3c3H_yNz"
      },
      "source": [
        "# Quora Duplicate Questions Training (OnlineContrastiveLoss)"
      ]
    },
    {
      "cell_type": "code",
      "metadata": {
        "colab": {
          "base_uri": "https://localhost:8080/"
        },
        "id": "6XOwXe4EtH5T",
        "outputId": "720d49be-5dd6-4044-bc23-21c8d1a287fe"
      },
      "source": [
        "from torch.utils.data import DataLoader\n",
        "from sentence_transformers import losses, util\n",
        "from sentence_transformers import LoggingHandler, SentenceTransformer, evaluation\n",
        "from sentence_transformers.readers import InputExample\n",
        "import logging\n",
        "from datetime import datetime\n",
        "import csv\n",
        "import os\n",
        "from zipfile import ZipFile\n",
        "import random\n",
        "\n",
        "#### Just some code to print debug information to stdout\n",
        "logging.basicConfig(format='%(asctime)s - %(message)s',\n",
        "                    datefmt='%Y-%m-%d %H:%M:%S',\n",
        "                    level=logging.INFO,\n",
        "                    handlers=[LoggingHandler()])\n",
        "logger = logging.getLogger(__name__)\n",
        "#### /print debug information to stdout\n",
        "\n",
        "\n",
        "#As base model, we use DistilBERT-base that was pre-trained on NLI and STSb data\n",
        "model = SentenceTransformer('stsb-distilbert-base')\n",
        "num_epochs = 1\n",
        "train_batch_size = 64\n",
        "\n",
        "#As distance metric, we use cosine distance (cosine_distance = 1-cosine_similarity)\n",
        "distance_metric = losses.SiameseDistanceMetric.COSINE_DISTANCE\n",
        "\n",
        "#Negative pairs should have a distance of at least 0.5\n",
        "margin = 0.5\n",
        "\n",
        "dataset_path = 'quora-IR-dataset'\n",
        "model_save_path = 'output/training_OnlineConstrativeLoss-'+datetime.now().strftime(\"%Y-%m-%d_%H-%M-%S\")\n",
        "eval_save_path = 'output/evaluation_OnlineConstrativeLoss-'+datetime.now().strftime(\"%Y-%m-%d_%H-%M-%S\")\n",
        "\n",
        "os.makedirs(model_save_path, exist_ok=True)\n",
        "\n",
        "# Check if the dataset exists. If not, download and extract\n",
        "if not os.path.exists(dataset_path):\n",
        "    logger.info(\"Dataset not found. Download\")\n",
        "    zip_save_path = 'quora-IR-dataset.zip'\n",
        "    util.http_get(url='https://sbert.net/datasets/quora-IR-dataset.zip', path=zip_save_path)\n",
        "    with ZipFile(zip_save_path, 'r') as zip:\n",
        "        zip.extractall(dataset_path)\n"
      ],
      "execution_count": 14,
      "outputs": [
        {
          "output_type": "stream",
          "text": [
            "2021-03-21 20:14:20 - Load pretrained SentenceTransformer: stsb-distilbert-base\n",
            "2021-03-21 20:14:20 - Did not find folder stsb-distilbert-base\n",
            "2021-03-21 20:14:20 - Search model on server: http://sbert.net/models/stsb-distilbert-base.zip\n",
            "2021-03-21 20:14:20 - Load SentenceTransformer from folder: /root/.cache/torch/sentence_transformers/sbert.net_models_stsb-distilbert-base\n",
            "2021-03-21 20:14:21 - Use pytorch device: cuda\n"
          ],
          "name": "stdout"
        }
      ]
    },
    {
      "cell_type": "code",
      "metadata": {
        "id": "Ibqrxm1Q3wiK"
      },
      "source": [
        "######### Read train data  ##########\n",
        "# Read train data\n",
        "max_train_samples = 100\n",
        "train_samples = []\n",
        "\n",
        "\n",
        "with open(os.path.join(dataset_path, \"classification/train_pairs.tsv\"), encoding='utf8') as fIn:\n",
        "    reader = csv.DictReader(fIn, delimiter='\\t', quoting=csv.QUOTE_NONE)\n",
        "    for row in reader:\n",
        "        sample = InputExample(texts=[row['question1'], row['question2']], label=int(row['is_duplicate']))\n",
        "        train_samples.append(sample)\n",
        "\n",
        "        if len(train_samples) >= max_train_samples:\n",
        "            break\n",
        "\n",
        "\n",
        "\n",
        "\n",
        "train_dataloader = DataLoader(train_samples, shuffle=True, batch_size=train_batch_size)\n",
        "train_loss = losses.OnlineContrastiveLoss(model=model, distance_metric=distance_metric, margin=margin)\n",
        "\n",
        "\n",
        "\n"
      ],
      "execution_count": 15,
      "outputs": []
    },
    {
      "cell_type": "code",
      "metadata": {
        "id": "sB5x7NVLAEbA"
      },
      "source": [
        "################### Development  Evaluators ##################\n",
        "# We add 3 evaluators, that evaluate the model on Duplicate Questions pair classification,\n",
        "# Duplicate Questions Mining, and Duplicate Questions Information Retrieval\n",
        "evaluators = []\n",
        "\n",
        "###### Classification ######\n",
        "# Given (quesiton1, question2), is this a duplicate or not?\n",
        "# The evaluator will compute the embeddings for both questions and then compute\n",
        "# a cosine similarity. If the similarity is above a threshold, we have a duplicate.\n",
        "dev_sentences1 = []\n",
        "dev_sentences2 = []\n",
        "dev_labels = []\n",
        "with open(os.path.join(dataset_path, \"classification/dev_pairs.tsv\"), encoding='utf8') as fIn:\n",
        "    reader = csv.DictReader(fIn, delimiter='\\t', quoting=csv.QUOTE_NONE)\n",
        "    for row in reader:\n",
        "        dev_sentences1.append(row['question1'])\n",
        "        dev_sentences2.append(row['question2'])\n",
        "        dev_labels.append(int(row['is_duplicate']))\n",
        "\n",
        "\n",
        "binary_acc_evaluator = evaluation.BinaryClassificationEvaluator(dev_sentences1, dev_sentences2, dev_labels)\n",
        "evaluators.append(binary_acc_evaluator)\n"
      ],
      "execution_count": 16,
      "outputs": []
    },
    {
      "cell_type": "code",
      "metadata": {
        "id": "pwiOZ6neAH59"
      },
      "source": [
        "###### Duplicate Questions Mining ######\n",
        "# Given a large corpus of questions, identify all duplicates in that corpus.\n",
        "\n",
        "# For faster processing, we limit the development corpus to only 10,000 sentences.\n",
        "max_dev_samples = 10000\n",
        "dev_sentences = {}\n",
        "dev_duplicates = []\n",
        "with open(os.path.join(dataset_path, \"duplicate-mining/dev_corpus.tsv\"), encoding='utf8') as fIn:\n",
        "    reader = csv.DictReader(fIn, delimiter='\\t', quoting=csv.QUOTE_NONE)\n",
        "    for row in reader:\n",
        "        dev_sentences[row['qid']] = row['question']\n",
        "\n",
        "        if len(dev_sentences) >= max_dev_samples:\n",
        "            break\n",
        "\n",
        "with open(os.path.join(dataset_path, \"duplicate-mining/dev_duplicates.tsv\"), encoding='utf8') as fIn:\n",
        "    reader = csv.DictReader(fIn, delimiter='\\t', quoting=csv.QUOTE_NONE)\n",
        "    for row in reader:\n",
        "        if row['qid1'] in dev_sentences and row['qid2'] in dev_sentences:\n",
        "            dev_duplicates.append([row['qid1'], row['qid2']])\n",
        "\n",
        "\n",
        "# The ParaphraseMiningEvaluator computes the cosine similarity between all sentences and\n",
        "# extracts a list with the pairs that have the highest similarity. Given the duplicate\n",
        "# information in dev_duplicates, it then computes and F1 score how well our duplicate mining worked\n",
        "paraphrase_mining_evaluator = evaluation.ParaphraseMiningEvaluator(dev_sentences, dev_duplicates, name='dev')\n",
        "evaluators.append(paraphrase_mining_evaluator)\n",
        "\n",
        "\n"
      ],
      "execution_count": 17,
      "outputs": []
    },
    {
      "cell_type": "code",
      "metadata": {
        "id": "7NcGD-F-ANVQ"
      },
      "source": [
        "###### Duplicate Questions Information Retrieval ######\n",
        "# Given a question and a large corpus of thousands questions, find the most relevant (i.e. duplicate) question\n",
        "# in that corpus.\n",
        "\n",
        "# For faster processing, we limit the development corpus to only 10,000 sentences.\n",
        "max_corpus_size = 100000\n",
        "\n",
        "ir_queries = {}             #Our queries (qid => question)\n",
        "ir_needed_qids = set()      #QIDs we need in the corpus\n",
        "ir_corpus = {}              #Our corpus (qid => question)\n",
        "ir_relevant_docs = {}       #Mapping of relevant documents for a given query (qid => set([relevant_question_ids])\n",
        "\n",
        "with open(os.path.join(dataset_path, 'information-retrieval/dev-queries.tsv'), encoding='utf8') as fIn:\n",
        "    next(fIn) #Skip header\n",
        "    for line in fIn:\n",
        "        qid, query, duplicate_ids = line.strip().split('\\t')\n",
        "        duplicate_ids = duplicate_ids.split(',')\n",
        "        ir_queries[qid] = query\n",
        "        ir_relevant_docs[qid] = set(duplicate_ids)\n",
        "\n",
        "        for qid in duplicate_ids:\n",
        "            ir_needed_qids.add(qid)\n",
        "\n",
        "# First get all needed relevant documents (i.e., we must ensure, that the relevant questions are actually in the corpus\n",
        "distraction_questions = {}\n",
        "with open(os.path.join(dataset_path, 'information-retrieval/corpus.tsv'), encoding='utf8') as fIn:\n",
        "    next(fIn) #Skip header\n",
        "    for line in fIn:\n",
        "        qid, question = line.strip().split('\\t')\n",
        "\n",
        "        if qid in ir_needed_qids:\n",
        "            ir_corpus[qid] = question\n",
        "        else:\n",
        "            distraction_questions[qid] = question\n",
        "\n",
        "# Now, also add some irrelevant questions to fill our corpus\n",
        "other_qid_list = list(distraction_questions.keys())\n",
        "random.shuffle(other_qid_list)\n",
        "\n",
        "for qid in other_qid_list[0:max(0, max_corpus_size-len(ir_corpus))]:\n",
        "    ir_corpus[qid] = distraction_questions[qid]\n",
        "\n",
        "#Given queries, a corpus and a mapping with relevant documents, the InformationRetrievalEvaluator computes different IR\n",
        "# metrices. For our use case MRR@k and Accuracy@k are relevant.\n",
        "ir_evaluator = evaluation.InformationRetrievalEvaluator(ir_queries, ir_corpus, ir_relevant_docs)\n",
        "\n",
        "evaluators.append(ir_evaluator)\n",
        "\n"
      ],
      "execution_count": 18,
      "outputs": []
    },
    {
      "cell_type": "code",
      "metadata": {
        "colab": {
          "base_uri": "https://localhost:8080/",
          "height": 1000,
          "referenced_widgets": [
            "71b969b49ef44af29a7837a4cc704f3a",
            "a2c16426aa8046e59070bffdeb893d8f",
            "d21ba363755448fa8a3fe525b5cd4bbb",
            "4c34c9394c0c4ad3874cdc384167a3fc",
            "a3853424928a4d30b73a330a2c285a9a",
            "23f0b79f25f84b78bd64611bbbbc6568",
            "fda7f27952ef4a9b8b79186f397213fc",
            "d9ce2eeeeb3046a99bf804df3b9c6ff9",
            "5f45b064833943ca8b35b687cb56a2f3",
            "deef3f2c734c40c7a3e2025e8932586d",
            "979314aef48241658231449e765b557a",
            "3540c3679ba24eebb86d13b90c0df4c5",
            "b541a751137244a2afd4dc80a1f254be",
            "5a6693efcc824294bbf9daedc21da49e",
            "5d6529de7d5643179aa283f8001c335e",
            "7873d02dd61346f39f6afff07da842c8"
          ]
        },
        "id": "TB5cTAioAQYW",
        "outputId": "ee7dc0fa-a7e2-4c30-d78f-e7bc5263ee93"
      },
      "source": [
        "# Create a SequentialEvaluator. This SequentialEvaluator runs all three evaluators in a sequential order.\n",
        "# We optimize the model with respect to the score from the last evaluator (scores[-1])\n",
        "seq_evaluator = evaluation.SequentialEvaluator(evaluators, main_score_function=lambda scores: scores[-1])\n",
        "\n",
        "\n",
        "logger.info(\"Evaluate model without training\")\n",
        "seq_evaluator(model, epoch=0, steps=0, output_path=model_save_path)\n",
        "\n",
        "logger.info(\"Evaluate model with training\")\n",
        "# Train the model\n",
        "model.fit(train_objectives=[(train_dataloader, train_loss)],\n",
        "          #evaluator=seq_evaluator,\n",
        "          evaluator=evaluators[0],\n",
        "          epochs=num_epochs,\n",
        "          warmup_steps=1000,\n",
        "          save_best_model=True,  # If true, the best model (according to evaluator) is stored at output_path\n",
        "          output_path=model_save_path\n",
        "          )"
      ],
      "execution_count": 19,
      "outputs": [
        {
          "output_type": "stream",
          "text": [
            "2021-03-21 20:14:23 - Evaluate model without training\n",
            "2021-03-21 20:14:23 - Binary Accuracy Evaluation of the model on  dataset in epoch 0 after 0 steps:\n",
            "2021-03-21 20:15:19 - Accuracy with Cosine-Similarity:           76.61\t(Threshold: 0.8349)\n",
            "2021-03-21 20:15:19 - F1 with Cosine-Similarity:                 69.29\t(Threshold: 0.7391)\n",
            "2021-03-21 20:15:19 - Precision with Cosine-Similarity:          60.18\n",
            "2021-03-21 20:15:19 - Recall with Cosine-Similarity:             81.64\n",
            "2021-03-21 20:15:19 - Average Precision with Cosine-Similarity:  71.80\n",
            "\n",
            "2021-03-21 20:15:19 - Accuracy with Manhatten-Distance:           76.70\t(Threshold: 193.7356)\n",
            "2021-03-21 20:15:19 - F1 with Manhatten-Distance:                 69.44\t(Threshold: 240.4903)\n",
            "2021-03-21 20:15:19 - Precision with Manhatten-Distance:          59.75\n",
            "2021-03-21 20:15:19 - Recall with Manhatten-Distance:             82.88\n",
            "2021-03-21 20:15:19 - Average Precision with Manhatten-Distance:  71.87\n",
            "\n",
            "2021-03-21 20:15:20 - Accuracy with Euclidean-Distance:           76.75\t(Threshold: 8.8834)\n",
            "2021-03-21 20:15:20 - F1 with Euclidean-Distance:                 69.45\t(Threshold: 10.8947)\n",
            "2021-03-21 20:15:20 - Precision with Euclidean-Distance:          59.90\n",
            "2021-03-21 20:15:20 - Recall with Euclidean-Distance:             82.62\n",
            "2021-03-21 20:15:20 - Average Precision with Euclidean-Distance:  71.90\n",
            "\n",
            "2021-03-21 20:15:20 - Paraphrase Mining Evaluation on dev dataset in epoch 0 after 0 steps:\n",
            "2021-03-21 20:15:35 - Number of candidate pairs: 294411\n",
            "2021-03-21 20:15:35 - Average Precision: 42.63\n",
            "2021-03-21 20:15:35 - Optimal threshold: 0.8616\n",
            "2021-03-21 20:15:35 - Precision: 51.25\n",
            "2021-03-21 20:15:35 - Recall: 43.45\n",
            "2021-03-21 20:15:35 - F1: 47.03\n",
            "\n",
            "2021-03-21 20:15:35 - Information Retrieval Evaluation on  dataset in epoch 0 after 0 steps:\n",
            "2021-03-21 20:16:56 - Queries: 5000\n",
            "2021-03-21 20:16:56 - Corpus: 100000\n",
            "\n",
            "2021-03-21 20:16:56 - Score-Function: cos_sim\n",
            "2021-03-21 20:16:56 - Accuracy@1: 84.74%\n",
            "2021-03-21 20:16:56 - Accuracy@3: 92.80%\n",
            "2021-03-21 20:16:56 - Accuracy@5: 94.60%\n",
            "2021-03-21 20:16:56 - Accuracy@10: 96.40%\n",
            "2021-03-21 20:16:56 - Precision@1: 84.74%\n",
            "2021-03-21 20:16:56 - Precision@3: 38.59%\n",
            "2021-03-21 20:16:56 - Precision@5: 25.18%\n",
            "2021-03-21 20:16:56 - Precision@10: 13.60%\n",
            "2021-03-21 20:16:56 - Recall@1: 72.25%\n",
            "2021-03-21 20:16:56 - Recall@3: 86.96%\n",
            "2021-03-21 20:16:56 - Recall@5: 90.45%\n",
            "2021-03-21 20:16:56 - Recall@10: 93.69%\n",
            "2021-03-21 20:16:56 - MRR@10: 0.8908\n",
            "2021-03-21 20:16:56 - NDCG@10: 0.8876\n",
            "2021-03-21 20:16:56 - MAP@100: 0.8621\n",
            "2021-03-21 20:16:56 - Score-Function: dot_score\n",
            "2021-03-21 20:16:56 - Accuracy@1: 81.34%\n",
            "2021-03-21 20:16:56 - Accuracy@3: 90.78%\n",
            "2021-03-21 20:16:56 - Accuracy@5: 93.14%\n",
            "2021-03-21 20:16:56 - Accuracy@10: 95.24%\n",
            "2021-03-21 20:16:56 - Precision@1: 81.34%\n",
            "2021-03-21 20:16:56 - Precision@3: 37.39%\n",
            "2021-03-21 20:16:56 - Precision@5: 24.53%\n",
            "2021-03-21 20:16:56 - Precision@10: 13.34%\n",
            "2021-03-21 20:16:56 - Recall@1: 69.33%\n",
            "2021-03-21 20:16:56 - Recall@3: 84.66%\n",
            "2021-03-21 20:16:56 - Recall@5: 88.64%\n",
            "2021-03-21 20:16:56 - Recall@10: 92.33%\n",
            "2021-03-21 20:16:56 - MRR@10: 0.8649\n",
            "2021-03-21 20:16:56 - NDCG@10: 0.8638\n",
            "2021-03-21 20:16:56 - MAP@100: 0.8347\n",
            "2021-03-21 20:16:57 - Evaluate model with training\n"
          ],
          "name": "stdout"
        },
        {
          "output_type": "display_data",
          "data": {
            "application/vnd.jupyter.widget-view+json": {
              "model_id": "71b969b49ef44af29a7837a4cc704f3a",
              "version_minor": 0,
              "version_major": 2
            },
            "text/plain": [
              "HBox(children=(FloatProgress(value=0.0, description='Epoch', max=1.0, style=ProgressStyle(description_width='i…"
            ]
          },
          "metadata": {
            "tags": []
          }
        },
        {
          "output_type": "display_data",
          "data": {
            "application/vnd.jupyter.widget-view+json": {
              "model_id": "5f45b064833943ca8b35b687cb56a2f3",
              "version_minor": 0,
              "version_major": 2
            },
            "text/plain": [
              "HBox(children=(FloatProgress(value=0.0, description='Iteration', max=2.0, style=ProgressStyle(description_widt…"
            ]
          },
          "metadata": {
            "tags": []
          }
        },
        {
          "output_type": "stream",
          "text": [
            "\n",
            "2021-03-21 20:16:57 - Binary Accuracy Evaluation of the model on  dataset after epoch 0:\n",
            "2021-03-21 20:17:52 - Accuracy with Cosine-Similarity:           76.61\t(Threshold: 0.8201)\n",
            "2021-03-21 20:17:52 - F1 with Cosine-Similarity:                 69.29\t(Threshold: 0.7391)\n",
            "2021-03-21 20:17:52 - Precision with Cosine-Similarity:          60.18\n",
            "2021-03-21 20:17:52 - Recall with Cosine-Similarity:             81.64\n",
            "2021-03-21 20:17:52 - Average Precision with Cosine-Similarity:  71.80\n",
            "\n",
            "2021-03-21 20:17:53 - Accuracy with Manhatten-Distance:           76.70\t(Threshold: 193.7350)\n",
            "2021-03-21 20:17:53 - F1 with Manhatten-Distance:                 69.44\t(Threshold: 240.4881)\n",
            "2021-03-21 20:17:53 - Precision with Manhatten-Distance:          59.75\n",
            "2021-03-21 20:17:53 - Recall with Manhatten-Distance:             82.88\n",
            "2021-03-21 20:17:53 - Average Precision with Manhatten-Distance:  71.87\n",
            "\n",
            "2021-03-21 20:17:53 - Accuracy with Euclidean-Distance:           76.75\t(Threshold: 8.8833)\n",
            "2021-03-21 20:17:53 - F1 with Euclidean-Distance:                 69.45\t(Threshold: 10.8946)\n",
            "2021-03-21 20:17:53 - Precision with Euclidean-Distance:          59.90\n",
            "2021-03-21 20:17:53 - Recall with Euclidean-Distance:             82.62\n",
            "2021-03-21 20:17:53 - Average Precision with Euclidean-Distance:  71.90\n",
            "\n",
            "2021-03-21 20:17:53 - Save model to output/training_OnlineConstrativeLoss-2021-03-21_20-14-21\n",
            "\n"
          ],
          "name": "stdout"
        }
      ]
    },
    {
      "cell_type": "markdown",
      "metadata": {
        "id": "_1yg2rWwOwhA"
      },
      "source": [
        "## Check Evaluation Result"
      ]
    },
    {
      "cell_type": "code",
      "metadata": {
        "id": "5-yNdaOVbUKa",
        "colab": {
          "base_uri": "https://localhost:8080/"
        },
        "outputId": "a1f974ee-24a7-4bc7-f551-b932e85a7788"
      },
      "source": [
        "eval"
      ],
      "execution_count": 20,
      "outputs": [
        {
          "output_type": "execute_result",
          "data": {
            "text/plain": [
              "<function eval>"
            ]
          },
          "metadata": {
            "tags": []
          },
          "execution_count": 20
        }
      ]
    },
    {
      "cell_type": "code",
      "metadata": {
        "id": "Dmbaak_pOvcn",
        "colab": {
          "base_uri": "https://localhost:8080/",
          "height": 308
        },
        "outputId": "adb28af9-e3fe-41dd-a562-ae780df77af1"
      },
      "source": [
        "import pandas as pd\n",
        "\n",
        "eval = pd.read_csv(model_save_path+'/binary_classification_evaluation_results.csv')\n",
        "eval[['cosine_acc']].plot(xlabel='epoch', ylabel='cosine_acc')"
      ],
      "execution_count": 21,
      "outputs": [
        {
          "output_type": "execute_result",
          "data": {
            "text/plain": [
              "<matplotlib.axes._subplots.AxesSubplot at 0x7f098ef16650>"
            ]
          },
          "metadata": {
            "tags": []
          },
          "execution_count": 21
        },
        {
          "output_type": "display_data",
          "data": {
            "image/png": "[encoded data removed]",
            "text/plain": [
              "<Figure size 432x288 with 1 Axes>"
            ]
          },
          "metadata": {
            "tags": [],
            "needs_background": "light"
          }
        }
      ]
    },
    {
      "cell_type": "markdown",
      "metadata": {
        "id": "B_QvypJrDlpU"
      },
      "source": [
        "## Load and Use Saved Model"
      ]
    },
    {
      "cell_type": "code",
      "metadata": {
        "id": "t8ut9u5SKEOI"
      },
      "source": [
        "from torch.utils.data import DataLoader\n",
        "from sentence_transformers import losses, util\n",
        "from sentence_transformers import LoggingHandler, SentenceTransformer, evaluation\n",
        "from sentence_transformers.readers import InputExample\n",
        "import logging\n",
        "from datetime import datetime\n",
        "import csv\n",
        "import os\n",
        "from zipfile import ZipFile\n",
        "import random"
      ],
      "execution_count": 22,
      "outputs": []
    },
    {
      "cell_type": "code",
      "metadata": {
        "colab": {
          "base_uri": "https://localhost:8080/",
          "height": 35
        },
        "id": "R6N82BY5BM8J",
        "outputId": "36a557e9-03ea-4a76-e2ec-11fc5db5ce42"
      },
      "source": [
        "# path of saved model\n",
        "model_save_path"
      ],
      "execution_count": 23,
      "outputs": [
        {
          "output_type": "execute_result",
          "data": {
            "application/vnd.google.colaboratory.intrinsic+json": {
              "type": "string"
            },
            "text/plain": [
              "'output/training_OnlineConstrativeLoss-2021-03-21_20-14-21'"
            ]
          },
          "metadata": {
            "tags": []
          },
          "execution_count": 23
        }
      ]
    },
    {
      "cell_type": "code",
      "metadata": {
        "colab": {
          "base_uri": "https://localhost:8080/"
        },
        "id": "9EN6y2jOBjzU",
        "outputId": "e8475a67-17b1-4985-c573-63cc07b38533"
      },
      "source": [
        "model = SentenceTransformer(model_save_path)\n",
        "# model = SentenceTransformer('http://www.server.com/path/to/model/my_model.zip')"
      ],
      "execution_count": 24,
      "outputs": [
        {
          "output_type": "stream",
          "text": [
            "2021-03-21 20:17:54 - Load pretrained SentenceTransformer: output/training_OnlineConstrativeLoss-2021-03-21_20-14-21\n",
            "2021-03-21 20:17:54 - Load SentenceTransformer from folder: output/training_OnlineConstrativeLoss-2021-03-21_20-14-21\n",
            "2021-03-21 20:17:55 - Use pytorch device: cuda\n"
          ],
          "name": "stdout"
        }
      ]
    },
    {
      "cell_type": "code",
      "metadata": {
        "colab": {
          "base_uri": "https://localhost:8080/"
        },
        "id": "lgz4HDRSFbrP",
        "outputId": "5c1259af-4ae3-4a32-e098-caa3a6bf9d28"
      },
      "source": [
        "\"\"\"\n",
        "This application demonstrates how to find duplicate questions (paraphrases) in a long\n",
        "list of sentences.\n",
        "\"\"\"\n",
        "\n",
        "from sentence_transformers import SentenceTransformer, util\n",
        "\n",
        "# Questions can be a long list of sentences up to 100k sentences or more.\n",
        "# For demonstration purposes, we limit it to a few questions which all have on duplicate\n",
        "questions = [\n",
        "    'How did you catch your spouse cheating?',\n",
        "    'How can I find out if my husband is cheating?',\n",
        "    'Is my wife cheating?',\n",
        "    'How do I know if my partner is cheating?',\n",
        "    'Why is Starbucks in India overrated?',\n",
        "    'Is Starbucks overrated in india?',\n",
        "    'How can I lose weight fast without exercise?',\n",
        "    'Can I lose weight without exercise?',\n",
        "    'Which city is the best in India? Why?',\n",
        "    'Which is the best city in India?',\n",
        "    'How can I stay focused in class?',\n",
        "    'How can I stay focused on my school work?',\n",
        "    'How can I Remotely hack a mobile phone?',\n",
        "    'How can I hack my phone?',\n",
        "    'Where should I stay in Goa?',\n",
        "    'Which are the best hotels in Goa?',\n",
        "    'Why does hair turn white?',\n",
        "    'What causes older peoples hair to turn grey?',\n",
        "    'What is the easiest way to get followers on Quora?',\n",
        "    'How do I get more followers for my Quora?'\n",
        "]\n",
        "\n",
        "#model = SentenceTransformer('distilbert-base-nli-stsb-quora-ranking')\n",
        "model = SentenceTransformer(model_save_path)\n",
        "\n",
        "# Given a model and a List of strings (texts), evaluation.ParaphraseMiningEvaluator.paraphrase_mining performs a\n",
        "# mining task by computing cosine similarity between all possible combinations and returning the ones with the highest scores.\n",
        "# It returns a list of tuples (score, i, j) with i, j representing the index in the questions list.\n",
        "pairs = util.paraphrase_mining(model, questions)\n",
        "\n",
        "#Output Top-20 pairs:\n",
        "for score, qid1, qid2 in pairs[0:20]:\n",
        "    print(\"{:.3f}\\t{}\\t\\t\\t{}\".format(score, questions[qid1], questions[qid2]))"
      ],
      "execution_count": 25,
      "outputs": [
        {
          "output_type": "stream",
          "text": [
            "2021-03-21 20:17:55 - Load pretrained SentenceTransformer: output/training_OnlineConstrativeLoss-2021-03-21_20-14-21\n",
            "2021-03-21 20:17:55 - Load SentenceTransformer from folder: output/training_OnlineConstrativeLoss-2021-03-21_20-14-21\n",
            "2021-03-21 20:17:56 - Use pytorch device: cuda\n",
            "0.912\tWhich city is the best in India? Why?\t\t\tWhich is the best city in India?\n",
            "0.911\tHow can I lose weight fast without exercise?\t\t\tCan I lose weight without exercise?\n",
            "0.904\tWhy is Starbucks in India overrated?\t\t\tIs Starbucks overrated in india?\n",
            "0.884\tHow did you catch your spouse cheating?\t\t\tHow can I find out if my husband is cheating?\n",
            "0.839\tHow did you catch your spouse cheating?\t\t\tHow do I know if my partner is cheating?\n",
            "0.799\tHow can I Remotely hack a mobile phone?\t\t\tHow can I hack my phone?\n",
            "0.790\tHow can I find out if my husband is cheating?\t\t\tHow do I know if my partner is cheating?\n",
            "0.786\tWhat is the easiest way to get followers on Quora?\t\t\tHow do I get more followers for my Quora?\n",
            "0.778\tIs my wife cheating?\t\t\tHow do I know if my partner is cheating?\n",
            "0.772\tHow did you catch your spouse cheating?\t\t\tIs my wife cheating?\n",
            "0.760\tHow can I stay focused in class?\t\t\tHow can I stay focused on my school work?\n",
            "0.752\tWhere should I stay in Goa?\t\t\tWhich are the best hotels in Goa?\n",
            "0.746\tHow can I find out if my husband is cheating?\t\t\tIs my wife cheating?\n",
            "0.600\tWhich city is the best in India? Why?\t\t\tWhich are the best hotels in Goa?\n",
            "0.594\tWhich is the best city in India?\t\t\tWhich are the best hotels in Goa?\n",
            "0.473\tWhich city is the best in India? Why?\t\t\tWhere should I stay in Goa?\n",
            "0.438\tWhy is Starbucks in India overrated?\t\t\tWhich city is the best in India? Why?\n",
            "0.423\tWhich is the best city in India?\t\t\tWhere should I stay in Goa?\n",
            "0.385\tIs Starbucks overrated in india?\t\t\tWhich city is the best in India? Why?\n",
            "0.348\tHow did you catch your spouse cheating?\t\t\tHow can I hack my phone?\n"
          ],
          "name": "stdout"
        }
      ]
    },
    {
      "cell_type": "code",
      "metadata": {
        "id": "XbBwYsUVDHE6"
      },
      "source": [
        ""
      ],
      "execution_count": 25,
      "outputs": []
    },
    {
      "cell_type": "code",
      "metadata": {
        "id": "lQrdgSLNDHBj"
      },
      "source": [
        ""
      ],
      "execution_count": 25,
      "outputs": []
    },
    {
      "cell_type": "code",
      "metadata": {
        "id": "J3vRWynoDG-a"
      },
      "source": [
        ""
      ],
      "execution_count": 25,
      "outputs": []
    },
    {
      "cell_type": "markdown",
      "metadata": {
        "id": "9ywT6cnNcBvR"
      },
      "source": [
        "# Check Quora Duplicate Dataset"
      ]
    },
    {
      "cell_type": "code",
      "metadata": {
        "colab": {
          "base_uri": "https://localhost:8080/",
          "height": 402
        },
        "id": "Gq1feCDLDG6r",
        "outputId": "8bfd688a-356a-4dce-fbe3-8ebe9cd32b8f"
      },
      "source": [
        "import pandas as pd\n",
        "\n",
        "pd.read_csv('/content/quora-IR-dataset/quora_duplicate_questions.tsv', sep = '\\t')"
      ],
      "execution_count": 26,
      "outputs": [
        {
          "output_type": "execute_result",
          "data": {
            "text/html": [
              "<div>\n",
              "<style scoped>\n",
              "    .dataframe tbody tr th:only-of-type {\n",
              "        vertical-align: middle;\n",
              "    }\n",
              "\n",
              "    .dataframe tbody tr th {\n",
              "        vertical-align: top;\n",
              "    }\n",
              "\n",
              "    .dataframe thead th {\n",
              "        text-align: right;\n",
              "    }\n",
              "</style>\n",
              "<table border=\"1\" class=\"dataframe\">\n",
              "  <thead>\n",
              "    <tr style=\"text-align: right;\">\n",
              "      <th></th>\n",
              "      <th>id</th>\n",
              "      <th>qid1</th>\n",
              "      <th>qid2</th>\n",
              "      <th>question1</th>\n",
              "      <th>question2</th>\n",
              "      <th>is_duplicate</th>\n",
              "    </tr>\n",
              "  </thead>\n",
              "  <tbody>\n",
              "    <tr>\n",
              "      <th>0</th>\n",
              "      <td>0</td>\n",
              "      <td>1</td>\n",
              "      <td>2</td>\n",
              "      <td>What is the step by step guide to invest in sh...</td>\n",
              "      <td>What is the step by step guide to invest in sh...</td>\n",
              "      <td>0</td>\n",
              "    </tr>\n",
              "    <tr>\n",
              "      <th>1</th>\n",
              "      <td>1</td>\n",
              "      <td>3</td>\n",
              "      <td>4</td>\n",
              "      <td>What is the story of Kohinoor (Koh-i-Noor) Dia...</td>\n",
              "      <td>What would happen if the Indian government sto...</td>\n",
              "      <td>0</td>\n",
              "    </tr>\n",
              "    <tr>\n",
              "      <th>2</th>\n",
              "      <td>2</td>\n",
              "      <td>5</td>\n",
              "      <td>6</td>\n",
              "      <td>How can I increase the speed of my internet co...</td>\n",
              "      <td>How can Internet speed be increased by hacking...</td>\n",
              "      <td>0</td>\n",
              "    </tr>\n",
              "    <tr>\n",
              "      <th>3</th>\n",
              "      <td>3</td>\n",
              "      <td>7</td>\n",
              "      <td>8</td>\n",
              "      <td>Why am I mentally very lonely? How can I solve...</td>\n",
              "      <td>Find the remainder when [math]23^{24}[/math] i...</td>\n",
              "      <td>0</td>\n",
              "    </tr>\n",
              "    <tr>\n",
              "      <th>4</th>\n",
              "      <td>4</td>\n",
              "      <td>9</td>\n",
              "      <td>10</td>\n",
              "      <td>Which one dissolve in water quikly sugar, salt...</td>\n",
              "      <td>Which fish would survive in salt water?</td>\n",
              "      <td>0</td>\n",
              "    </tr>\n",
              "    <tr>\n",
              "      <th>...</th>\n",
              "      <td>...</td>\n",
              "      <td>...</td>\n",
              "      <td>...</td>\n",
              "      <td>...</td>\n",
              "      <td>...</td>\n",
              "      <td>...</td>\n",
              "    </tr>\n",
              "    <tr>\n",
              "      <th>404285</th>\n",
              "      <td>404285</td>\n",
              "      <td>433578</td>\n",
              "      <td>379845</td>\n",
              "      <td>How many keywords are there in the Racket prog...</td>\n",
              "      <td>How many keywords are there in PERL Programmin...</td>\n",
              "      <td>0</td>\n",
              "    </tr>\n",
              "    <tr>\n",
              "      <th>404286</th>\n",
              "      <td>404286</td>\n",
              "      <td>18840</td>\n",
              "      <td>155606</td>\n",
              "      <td>Do you believe there is life after death?</td>\n",
              "      <td>Is it true that there is life after death?</td>\n",
              "      <td>1</td>\n",
              "    </tr>\n",
              "    <tr>\n",
              "      <th>404287</th>\n",
              "      <td>404287</td>\n",
              "      <td>537928</td>\n",
              "      <td>537929</td>\n",
              "      <td>What is one coin?</td>\n",
              "      <td>What's this coin?</td>\n",
              "      <td>0</td>\n",
              "    </tr>\n",
              "    <tr>\n",
              "      <th>404288</th>\n",
              "      <td>404288</td>\n",
              "      <td>537930</td>\n",
              "      <td>537931</td>\n",
              "      <td>What is the approx annual cost of living while...</td>\n",
              "      <td>I am having little hairfall problem but I want...</td>\n",
              "      <td>0</td>\n",
              "    </tr>\n",
              "    <tr>\n",
              "      <th>404289</th>\n",
              "      <td>404289</td>\n",
              "      <td>537932</td>\n",
              "      <td>537933</td>\n",
              "      <td>What is like to have sex with cousin?</td>\n",
              "      <td>What is it like to have sex with your cousin?</td>\n",
              "      <td>0</td>\n",
              "    </tr>\n",
              "  </tbody>\n",
              "</table>\n",
              "<p>404290 rows × 6 columns</p>\n",
              "</div>"
            ],
            "text/plain": [
              "            id  ...  is_duplicate\n",
              "0            0  ...             0\n",
              "1            1  ...             0\n",
              "2            2  ...             0\n",
              "3            3  ...             0\n",
              "4            4  ...             0\n",
              "...        ...  ...           ...\n",
              "404285  404285  ...             0\n",
              "404286  404286  ...             1\n",
              "404287  404287  ...             0\n",
              "404288  404288  ...             0\n",
              "404289  404289  ...             0\n",
              "\n",
              "[404290 rows x 6 columns]"
            ]
          },
          "metadata": {
            "tags": []
          },
          "execution_count": 26
        }
      ]
    },
    {
      "cell_type": "code",
      "metadata": {
        "colab": {
          "base_uri": "https://localhost:8080/",
          "height": 454
        },
        "id": "XaVXiykUU6zb",
        "outputId": "1f721eb5-0420-4fa4-8f04-8cc6242b8c32"
      },
      "source": [
        "pd.read_csv('/content/quora-IR-dataset/classification/train_pairs.tsv', sep = '\\t', error_bad_lines=False)"
      ],
      "execution_count": 27,
      "outputs": [
        {
          "output_type": "stream",
          "text": [
            "b'Skipping line 129844: expected 5 fields, saw 6\\n'\n",
            "b'Skipping line 187674: expected 5 fields, saw 6\\nSkipping line 199603: expected 5 fields, saw 6\\nSkipping line 229267: expected 5 fields, saw 6\\n'\n",
            "b'Skipping line 274666: expected 5 fields, saw 6\\n'\n"
          ],
          "name": "stderr"
        },
        {
          "output_type": "execute_result",
          "data": {
            "text/html": [
              "<div>\n",
              "<style scoped>\n",
              "    .dataframe tbody tr th:only-of-type {\n",
              "        vertical-align: middle;\n",
              "    }\n",
              "\n",
              "    .dataframe tbody tr th {\n",
              "        vertical-align: top;\n",
              "    }\n",
              "\n",
              "    .dataframe thead th {\n",
              "        text-align: right;\n",
              "    }\n",
              "</style>\n",
              "<table border=\"1\" class=\"dataframe\">\n",
              "  <thead>\n",
              "    <tr style=\"text-align: right;\">\n",
              "      <th></th>\n",
              "      <th>qid1</th>\n",
              "      <th>qid2</th>\n",
              "      <th>question1</th>\n",
              "      <th>question2</th>\n",
              "      <th>is_duplicate</th>\n",
              "    </tr>\n",
              "  </thead>\n",
              "  <tbody>\n",
              "    <tr>\n",
              "      <th>0</th>\n",
              "      <td>161796</td>\n",
              "      <td>124097</td>\n",
              "      <td>When is surge pricing on Uber generally in eff...</td>\n",
              "      <td>When is surge pricing on Uber generally in eff...</td>\n",
              "      <td>0.0</td>\n",
              "    </tr>\n",
              "    <tr>\n",
              "      <th>1</th>\n",
              "      <td>123279</td>\n",
              "      <td>123280</td>\n",
              "      <td>Why in India do we not have one on one politic...</td>\n",
              "      <td>Why cant we have a public debate between polit...</td>\n",
              "      <td>1.0</td>\n",
              "    </tr>\n",
              "    <tr>\n",
              "      <th>2</th>\n",
              "      <td>63742</td>\n",
              "      <td>63743</td>\n",
              "      <td>What is the scope of making career in Import E...</td>\n",
              "      <td>I'm a cartoonist, how can I start sharing my w...</td>\n",
              "      <td>0.0</td>\n",
              "    </tr>\n",
              "    <tr>\n",
              "      <th>3</th>\n",
              "      <td>13778</td>\n",
              "      <td>13779</td>\n",
              "      <td>What do you think will be the effect of Modi G...</td>\n",
              "      <td>What are the full implications of the Indian g...</td>\n",
              "      <td>1.0</td>\n",
              "    </tr>\n",
              "    <tr>\n",
              "      <th>4</th>\n",
              "      <td>266204</td>\n",
              "      <td>266205</td>\n",
              "      <td>What is OnePlus One?</td>\n",
              "      <td>How is oneplus one?</td>\n",
              "      <td>1.0</td>\n",
              "    </tr>\n",
              "    <tr>\n",
              "      <th>...</th>\n",
              "      <td>...</td>\n",
              "      <td>...</td>\n",
              "      <td>...</td>\n",
              "      <td>...</td>\n",
              "      <td>...</td>\n",
              "    </tr>\n",
              "    <tr>\n",
              "      <th>277272</th>\n",
              "      <td>190517</td>\n",
              "      <td>190518</td>\n",
              "      <td>What is the meaning of the movie \"Pulp Fiction\"?</td>\n",
              "      <td>Where can I find Pulp Fiction-like music?</td>\n",
              "      <td>0.0</td>\n",
              "    </tr>\n",
              "    <tr>\n",
              "      <th>277273</th>\n",
              "      <td>17705</td>\n",
              "      <td>228276</td>\n",
              "      <td>How do I commit suicide and make it seem like ...</td>\n",
              "      <td>I just want to die. How can I make it look lik...</td>\n",
              "      <td>1.0</td>\n",
              "    </tr>\n",
              "    <tr>\n",
              "      <th>277274</th>\n",
              "      <td>25202</td>\n",
              "      <td>25203</td>\n",
              "      <td>How can I beat procrastination?</td>\n",
              "      <td>What are some of the time tested ways to beat ...</td>\n",
              "      <td>1.0</td>\n",
              "    </tr>\n",
              "    <tr>\n",
              "      <th>277275</th>\n",
              "      <td>60188</td>\n",
              "      <td>102418</td>\n",
              "      <td>Why did some Quora answers collapse?</td>\n",
              "      <td>Why are my answers collapsed by Quora all the ...</td>\n",
              "      <td>1.0</td>\n",
              "    </tr>\n",
              "    <tr>\n",
              "      <th>277276</th>\n",
              "      <td>45021</td>\n",
              "      <td>351262</td>\n",
              "      <td>Why do you use an iPhone?</td>\n",
              "      <td>Why do people buy the iPhone?</td>\n",
              "      <td>1.0</td>\n",
              "    </tr>\n",
              "  </tbody>\n",
              "</table>\n",
              "<p>277277 rows × 5 columns</p>\n",
              "</div>"
            ],
            "text/plain": [
              "          qid1  ...  is_duplicate\n",
              "0       161796  ...           0.0\n",
              "1       123279  ...           1.0\n",
              "2        63742  ...           0.0\n",
              "3        13778  ...           1.0\n",
              "4       266204  ...           1.0\n",
              "...        ...  ...           ...\n",
              "277272  190517  ...           0.0\n",
              "277273   17705  ...           1.0\n",
              "277274   25202  ...           1.0\n",
              "277275   60188  ...           1.0\n",
              "277276   45021  ...           1.0\n",
              "\n",
              "[277277 rows x 5 columns]"
            ]
          },
          "metadata": {
            "tags": []
          },
          "execution_count": 27
        }
      ]
    },
    {
      "cell_type": "code",
      "metadata": {
        "id": "qtcXgmbuVM6v"
      },
      "source": [
        ""
      ],
      "execution_count": 27,
      "outputs": []
    }
  ]
}