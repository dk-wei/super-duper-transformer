{
  "nbformat": 4,
  "nbformat_minor": 0,
  "metadata": {
    "colab": {
      "name": "bert_classification (CLS + Fine-tune 中文版本).ipynb",
      "provenance": [],
      "collapsed_sections": [],
      "authorship_tag": "ABX9TyNOKDK03S7zbjAtq8Mx3ycu",
      "include_colab_link": true
    },
    "kernelspec": {
      "name": "python3",
      "display_name": "Python 3"
    },
    "language_info": {
      "name": "python"
    },
    "accelerator": "GPU",
    "widgets": {
      "application/vnd.jupyter.widget-state+json": {
        "c24727fb907a42dfbee6e7bebdaaa5bb": {
          "model_module": "@jupyter-widgets/controls",
          "model_name": "HBoxModel",
          "state": {
            "_view_name": "HBoxView",
            "_dom_classes": [],
            "_model_name": "HBoxModel",
            "_view_module": "@jupyter-widgets/controls",
            "_model_module_version": "1.5.0",
            "_view_count": null,
            "_view_module_version": "1.5.0",
            "box_style": "",
            "layout": "IPY_MODEL_773b127ec6a249d8b30cae4a5bad065d",
            "_model_module": "@jupyter-widgets/controls",
            "children": [
              "IPY_MODEL_f8d56e668afd4e75b26c45b6012b29e8",
              "IPY_MODEL_7db93d0b31e84a98b54664d8f5a1f448"
            ]
          }
        },
        "773b127ec6a249d8b30cae4a5bad065d": {
          "model_module": "@jupyter-widgets/base",
          "model_name": "LayoutModel",
          "state": {
            "_view_name": "LayoutView",
            "grid_template_rows": null,
            "right": null,
            "justify_content": null,
            "_view_module": "@jupyter-widgets/base",
            "overflow": null,
            "_model_module_version": "1.2.0",
            "_view_count": null,
            "flex_flow": null,
            "width": null,
            "min_width": null,
            "border": null,
            "align_items": null,
            "bottom": null,
            "_model_module": "@jupyter-widgets/base",
            "top": null,
            "grid_column": null,
            "overflow_y": null,
            "overflow_x": null,
            "grid_auto_flow": null,
            "grid_area": null,
            "grid_template_columns": null,
            "flex": null,
            "_model_name": "LayoutModel",
            "justify_items": null,
            "grid_row": null,
            "max_height": null,
            "align_content": null,
            "visibility": null,
            "align_self": null,
            "height": null,
            "min_height": null,
            "padding": null,
            "grid_auto_rows": null,
            "grid_gap": null,
            "max_width": null,
            "order": null,
            "_view_module_version": "1.2.0",
            "grid_template_areas": null,
            "object_position": null,
            "object_fit": null,
            "grid_auto_columns": null,
            "margin": null,
            "display": null,
            "left": null
          }
        },
        "f8d56e668afd4e75b26c45b6012b29e8": {
          "model_module": "@jupyter-widgets/controls",
          "model_name": "FloatProgressModel",
          "state": {
            "_view_name": "ProgressView",
            "style": "IPY_MODEL_84dbad3f7dcb4dacb2a1249744c20be5",
            "_dom_classes": [],
            "description": "Downloading: 100%",
            "_model_name": "FloatProgressModel",
            "bar_style": "success",
            "max": 231508,
            "_view_module": "@jupyter-widgets/controls",
            "_model_module_version": "1.5.0",
            "value": 231508,
            "_view_count": null,
            "_view_module_version": "1.5.0",
            "orientation": "horizontal",
            "min": 0,
            "description_tooltip": null,
            "_model_module": "@jupyter-widgets/controls",
            "layout": "IPY_MODEL_5f4a59b75797456a9c5e2b52dd61eab5"
          }
        },
        "7db93d0b31e84a98b54664d8f5a1f448": {
          "model_module": "@jupyter-widgets/controls",
          "model_name": "HTMLModel",
          "state": {
            "_view_name": "HTMLView",
            "style": "IPY_MODEL_50bc965194b84f90875ff216eed3b249",
            "_dom_classes": [],
            "description": "",
            "_model_name": "HTMLModel",
            "placeholder": "​",
            "_view_module": "@jupyter-widgets/controls",
            "_model_module_version": "1.5.0",
            "value": " 232k/232k [00:00&lt;00:00, 2.42MB/s]",
            "_view_count": null,
            "_view_module_version": "1.5.0",
            "description_tooltip": null,
            "_model_module": "@jupyter-widgets/controls",
            "layout": "IPY_MODEL_3be758c149174b9fa95840245e5d03e2"
          }
        },
        "84dbad3f7dcb4dacb2a1249744c20be5": {
          "model_module": "@jupyter-widgets/controls",
          "model_name": "ProgressStyleModel",
          "state": {
            "_view_name": "StyleView",
            "_model_name": "ProgressStyleModel",
            "description_width": "initial",
            "_view_module": "@jupyter-widgets/base",
            "_model_module_version": "1.5.0",
            "_view_count": null,
            "_view_module_version": "1.2.0",
            "bar_color": null,
            "_model_module": "@jupyter-widgets/controls"
          }
        },
        "5f4a59b75797456a9c5e2b52dd61eab5": {
          "model_module": "@jupyter-widgets/base",
          "model_name": "LayoutModel",
          "state": {
            "_view_name": "LayoutView",
            "grid_template_rows": null,
            "right": null,
            "justify_content": null,
            "_view_module": "@jupyter-widgets/base",
            "overflow": null,
            "_model_module_version": "1.2.0",
            "_view_count": null,
            "flex_flow": null,
            "width": null,
            "min_width": null,
            "border": null,
            "align_items": null,
            "bottom": null,
            "_model_module": "@jupyter-widgets/base",
            "top": null,
            "grid_column": null,
            "overflow_y": null,
            "overflow_x": null,
            "grid_auto_flow": null,
            "grid_area": null,
            "grid_template_columns": null,
            "flex": null,
            "_model_name": "LayoutModel",
            "justify_items": null,
            "grid_row": null,
            "max_height": null,
            "align_content": null,
            "visibility": null,
            "align_self": null,
            "height": null,
            "min_height": null,
            "padding": null,
            "grid_auto_rows": null,
            "grid_gap": null,
            "max_width": null,
            "order": null,
            "_view_module_version": "1.2.0",
            "grid_template_areas": null,
            "object_position": null,
            "object_fit": null,
            "grid_auto_columns": null,
            "margin": null,
            "display": null,
            "left": null
          }
        },
        "50bc965194b84f90875ff216eed3b249": {
          "model_module": "@jupyter-widgets/controls",
          "model_name": "DescriptionStyleModel",
          "state": {
            "_view_name": "StyleView",
            "_model_name": "DescriptionStyleModel",
            "description_width": "",
            "_view_module": "@jupyter-widgets/base",
            "_model_module_version": "1.5.0",
            "_view_count": null,
            "_view_module_version": "1.2.0",
            "_model_module": "@jupyter-widgets/controls"
          }
        },
        "3be758c149174b9fa95840245e5d03e2": {
          "model_module": "@jupyter-widgets/base",
          "model_name": "LayoutModel",
          "state": {
            "_view_name": "LayoutView",
            "grid_template_rows": null,
            "right": null,
            "justify_content": null,
            "_view_module": "@jupyter-widgets/base",
            "overflow": null,
            "_model_module_version": "1.2.0",
            "_view_count": null,
            "flex_flow": null,
            "width": null,
            "min_width": null,
            "border": null,
            "align_items": null,
            "bottom": null,
            "_model_module": "@jupyter-widgets/base",
            "top": null,
            "grid_column": null,
            "overflow_y": null,
            "overflow_x": null,
            "grid_auto_flow": null,
            "grid_area": null,
            "grid_template_columns": null,
            "flex": null,
            "_model_name": "LayoutModel",
            "justify_items": null,
            "grid_row": null,
            "max_height": null,
            "align_content": null,
            "visibility": null,
            "align_self": null,
            "height": null,
            "min_height": null,
            "padding": null,
            "grid_auto_rows": null,
            "grid_gap": null,
            "max_width": null,
            "order": null,
            "_view_module_version": "1.2.0",
            "grid_template_areas": null,
            "object_position": null,
            "object_fit": null,
            "grid_auto_columns": null,
            "margin": null,
            "display": null,
            "left": null
          }
        },
        "103cb50fa8bb4e62a1ce74e5b8726132": {
          "model_module": "@jupyter-widgets/controls",
          "model_name": "HBoxModel",
          "state": {
            "_view_name": "HBoxView",
            "_dom_classes": [],
            "_model_name": "HBoxModel",
            "_view_module": "@jupyter-widgets/controls",
            "_model_module_version": "1.5.0",
            "_view_count": null,
            "_view_module_version": "1.5.0",
            "box_style": "",
            "layout": "IPY_MODEL_adac8e556f164691b4dd444578ba004e",
            "_model_module": "@jupyter-widgets/controls",
            "children": [
              "IPY_MODEL_a6da7c10bb744f078923e9dbc7292195",
              "IPY_MODEL_2843c2e3d8464deb97a1d1b64016e98d"
            ]
          }
        },
        "adac8e556f164691b4dd444578ba004e": {
          "model_module": "@jupyter-widgets/base",
          "model_name": "LayoutModel",
          "state": {
            "_view_name": "LayoutView",
            "grid_template_rows": null,
            "right": null,
            "justify_content": null,
            "_view_module": "@jupyter-widgets/base",
            "overflow": null,
            "_model_module_version": "1.2.0",
            "_view_count": null,
            "flex_flow": null,
            "width": null,
            "min_width": null,
            "border": null,
            "align_items": null,
            "bottom": null,
            "_model_module": "@jupyter-widgets/base",
            "top": null,
            "grid_column": null,
            "overflow_y": null,
            "overflow_x": null,
            "grid_auto_flow": null,
            "grid_area": null,
            "grid_template_columns": null,
            "flex": null,
            "_model_name": "LayoutModel",
            "justify_items": null,
            "grid_row": null,
            "max_height": null,
            "align_content": null,
            "visibility": null,
            "align_self": null,
            "height": null,
            "min_height": null,
            "padding": null,
            "grid_auto_rows": null,
            "grid_gap": null,
            "max_width": null,
            "order": null,
            "_view_module_version": "1.2.0",
            "grid_template_areas": null,
            "object_position": null,
            "object_fit": null,
            "grid_auto_columns": null,
            "margin": null,
            "display": null,
            "left": null
          }
        },
        "a6da7c10bb744f078923e9dbc7292195": {
          "model_module": "@jupyter-widgets/controls",
          "model_name": "FloatProgressModel",
          "state": {
            "_view_name": "ProgressView",
            "style": "IPY_MODEL_a0205f1f03a04d49a6a228516fca3f9f",
            "_dom_classes": [],
            "description": "Downloading: 100%",
            "_model_name": "FloatProgressModel",
            "bar_style": "success",
            "max": 433,
            "_view_module": "@jupyter-widgets/controls",
            "_model_module_version": "1.5.0",
            "value": 433,
            "_view_count": null,
            "_view_module_version": "1.5.0",
            "orientation": "horizontal",
            "min": 0,
            "description_tooltip": null,
            "_model_module": "@jupyter-widgets/controls",
            "layout": "IPY_MODEL_cb5f5fbda73a4fecaa2fad7f6fbf3a34"
          }
        },
        "2843c2e3d8464deb97a1d1b64016e98d": {
          "model_module": "@jupyter-widgets/controls",
          "model_name": "HTMLModel",
          "state": {
            "_view_name": "HTMLView",
            "style": "IPY_MODEL_0a675fa6de9d4d269ee2943cfab46b09",
            "_dom_classes": [],
            "description": "",
            "_model_name": "HTMLModel",
            "placeholder": "​",
            "_view_module": "@jupyter-widgets/controls",
            "_model_module_version": "1.5.0",
            "value": " 433/433 [00:00&lt;00:00, 2.35kB/s]",
            "_view_count": null,
            "_view_module_version": "1.5.0",
            "description_tooltip": null,
            "_model_module": "@jupyter-widgets/controls",
            "layout": "IPY_MODEL_5c18a12874534e6e984328d57a0a2222"
          }
        },
        "a0205f1f03a04d49a6a228516fca3f9f": {
          "model_module": "@jupyter-widgets/controls",
          "model_name": "ProgressStyleModel",
          "state": {
            "_view_name": "StyleView",
            "_model_name": "ProgressStyleModel",
            "description_width": "initial",
            "_view_module": "@jupyter-widgets/base",
            "_model_module_version": "1.5.0",
            "_view_count": null,
            "_view_module_version": "1.2.0",
            "bar_color": null,
            "_model_module": "@jupyter-widgets/controls"
          }
        },
        "cb5f5fbda73a4fecaa2fad7f6fbf3a34": {
          "model_module": "@jupyter-widgets/base",
          "model_name": "LayoutModel",
          "state": {
            "_view_name": "LayoutView",
            "grid_template_rows": null,
            "right": null,
            "justify_content": null,
            "_view_module": "@jupyter-widgets/base",
            "overflow": null,
            "_model_module_version": "1.2.0",
            "_view_count": null,
            "flex_flow": null,
            "width": null,
            "min_width": null,
            "border": null,
            "align_items": null,
            "bottom": null,
            "_model_module": "@jupyter-widgets/base",
            "top": null,
            "grid_column": null,
            "overflow_y": null,
            "overflow_x": null,
            "grid_auto_flow": null,
            "grid_area": null,
            "grid_template_columns": null,
            "flex": null,
            "_model_name": "LayoutModel",
            "justify_items": null,
            "grid_row": null,
            "max_height": null,
            "align_content": null,
            "visibility": null,
            "align_self": null,
            "height": null,
            "min_height": null,
            "padding": null,
            "grid_auto_rows": null,
            "grid_gap": null,
            "max_width": null,
            "order": null,
            "_view_module_version": "1.2.0",
            "grid_template_areas": null,
            "object_position": null,
            "object_fit": null,
            "grid_auto_columns": null,
            "margin": null,
            "display": null,
            "left": null
          }
        },
        "0a675fa6de9d4d269ee2943cfab46b09": {
          "model_module": "@jupyter-widgets/controls",
          "model_name": "DescriptionStyleModel",
          "state": {
            "_view_name": "StyleView",
            "_model_name": "DescriptionStyleModel",
            "description_width": "",
            "_view_module": "@jupyter-widgets/base",
            "_model_module_version": "1.5.0",
            "_view_count": null,
            "_view_module_version": "1.2.0",
            "_model_module": "@jupyter-widgets/controls"
          }
        },
        "5c18a12874534e6e984328d57a0a2222": {
          "model_module": "@jupyter-widgets/base",
          "model_name": "LayoutModel",
          "state": {
            "_view_name": "LayoutView",
            "grid_template_rows": null,
            "right": null,
            "justify_content": null,
            "_view_module": "@jupyter-widgets/base",
            "overflow": null,
            "_model_module_version": "1.2.0",
            "_view_count": null,
            "flex_flow": null,
            "width": null,
            "min_width": null,
            "border": null,
            "align_items": null,
            "bottom": null,
            "_model_module": "@jupyter-widgets/base",
            "top": null,
            "grid_column": null,
            "overflow_y": null,
            "overflow_x": null,
            "grid_auto_flow": null,
            "grid_area": null,
            "grid_template_columns": null,
            "flex": null,
            "_model_name": "LayoutModel",
            "justify_items": null,
            "grid_row": null,
            "max_height": null,
            "align_content": null,
            "visibility": null,
            "align_self": null,
            "height": null,
            "min_height": null,
            "padding": null,
            "grid_auto_rows": null,
            "grid_gap": null,
            "max_width": null,
            "order": null,
            "_view_module_version": "1.2.0",
            "grid_template_areas": null,
            "object_position": null,
            "object_fit": null,
            "grid_auto_columns": null,
            "margin": null,
            "display": null,
            "left": null
          }
        },
        "3b9aa2b8606644f1a1e5777a6e1980e5": {
          "model_module": "@jupyter-widgets/controls",
          "model_name": "HBoxModel",
          "state": {
            "_view_name": "HBoxView",
            "_dom_classes": [],
            "_model_name": "HBoxModel",
            "_view_module": "@jupyter-widgets/controls",
            "_model_module_version": "1.5.0",
            "_view_count": null,
            "_view_module_version": "1.5.0",
            "box_style": "",
            "layout": "IPY_MODEL_870ed79c67614d2a9146284ae0a90a93",
            "_model_module": "@jupyter-widgets/controls",
            "children": [
              "IPY_MODEL_bf510a2359304985815c24986f0a9c48",
              "IPY_MODEL_6bfa9156419c4e81bd9bca09710e9b30"
            ]
          }
        },
        "870ed79c67614d2a9146284ae0a90a93": {
          "model_module": "@jupyter-widgets/base",
          "model_name": "LayoutModel",
          "state": {
            "_view_name": "LayoutView",
            "grid_template_rows": null,
            "right": null,
            "justify_content": null,
            "_view_module": "@jupyter-widgets/base",
            "overflow": null,
            "_model_module_version": "1.2.0",
            "_view_count": null,
            "flex_flow": null,
            "width": null,
            "min_width": null,
            "border": null,
            "align_items": null,
            "bottom": null,
            "_model_module": "@jupyter-widgets/base",
            "top": null,
            "grid_column": null,
            "overflow_y": null,
            "overflow_x": null,
            "grid_auto_flow": null,
            "grid_area": null,
            "grid_template_columns": null,
            "flex": null,
            "_model_name": "LayoutModel",
            "justify_items": null,
            "grid_row": null,
            "max_height": null,
            "align_content": null,
            "visibility": null,
            "align_self": null,
            "height": null,
            "min_height": null,
            "padding": null,
            "grid_auto_rows": null,
            "grid_gap": null,
            "max_width": null,
            "order": null,
            "_view_module_version": "1.2.0",
            "grid_template_areas": null,
            "object_position": null,
            "object_fit": null,
            "grid_auto_columns": null,
            "margin": null,
            "display": null,
            "left": null
          }
        },
        "bf510a2359304985815c24986f0a9c48": {
          "model_module": "@jupyter-widgets/controls",
          "model_name": "FloatProgressModel",
          "state": {
            "_view_name": "ProgressView",
            "style": "IPY_MODEL_7133cbd375214a1ca4bd95fbdf899afb",
            "_dom_classes": [],
            "description": "Downloading: 100%",
            "_model_name": "FloatProgressModel",
            "bar_style": "success",
            "max": 440473133,
            "_view_module": "@jupyter-widgets/controls",
            "_model_module_version": "1.5.0",
            "value": 440473133,
            "_view_count": null,
            "_view_module_version": "1.5.0",
            "orientation": "horizontal",
            "min": 0,
            "description_tooltip": null,
            "_model_module": "@jupyter-widgets/controls",
            "layout": "IPY_MODEL_5ad28bee17b34b9f958dd41bdb5b672f"
          }
        },
        "6bfa9156419c4e81bd9bca09710e9b30": {
          "model_module": "@jupyter-widgets/controls",
          "model_name": "HTMLModel",
          "state": {
            "_view_name": "HTMLView",
            "style": "IPY_MODEL_65cc31a4c874495bbec4dd7224b6fff8",
            "_dom_classes": [],
            "description": "",
            "_model_name": "HTMLModel",
            "placeholder": "​",
            "_view_module": "@jupyter-widgets/controls",
            "_model_module_version": "1.5.0",
            "value": " 440M/440M [00:09&lt;00:00, 47.8MB/s]",
            "_view_count": null,
            "_view_module_version": "1.5.0",
            "description_tooltip": null,
            "_model_module": "@jupyter-widgets/controls",
            "layout": "IPY_MODEL_779f63041b114ad7ba2606f991e8bcb5"
          }
        },
        "7133cbd375214a1ca4bd95fbdf899afb": {
          "model_module": "@jupyter-widgets/controls",
          "model_name": "ProgressStyleModel",
          "state": {
            "_view_name": "StyleView",
            "_model_name": "ProgressStyleModel",
            "description_width": "initial",
            "_view_module": "@jupyter-widgets/base",
            "_model_module_version": "1.5.0",
            "_view_count": null,
            "_view_module_version": "1.2.0",
            "bar_color": null,
            "_model_module": "@jupyter-widgets/controls"
          }
        },
        "5ad28bee17b34b9f958dd41bdb5b672f": {
          "model_module": "@jupyter-widgets/base",
          "model_name": "LayoutModel",
          "state": {
            "_view_name": "LayoutView",
            "grid_template_rows": null,
            "right": null,
            "justify_content": null,
            "_view_module": "@jupyter-widgets/base",
            "overflow": null,
            "_model_module_version": "1.2.0",
            "_view_count": null,
            "flex_flow": null,
            "width": null,
            "min_width": null,
            "border": null,
            "align_items": null,
            "bottom": null,
            "_model_module": "@jupyter-widgets/base",
            "top": null,
            "grid_column": null,
            "overflow_y": null,
            "overflow_x": null,
            "grid_auto_flow": null,
            "grid_area": null,
            "grid_template_columns": null,
            "flex": null,
            "_model_name": "LayoutModel",
            "justify_items": null,
            "grid_row": null,
            "max_height": null,
            "align_content": null,
            "visibility": null,
            "align_self": null,
            "height": null,
            "min_height": null,
            "padding": null,
            "grid_auto_rows": null,
            "grid_gap": null,
            "max_width": null,
            "order": null,
            "_view_module_version": "1.2.0",
            "grid_template_areas": null,
            "object_position": null,
            "object_fit": null,
            "grid_auto_columns": null,
            "margin": null,
            "display": null,
            "left": null
          }
        },
        "65cc31a4c874495bbec4dd7224b6fff8": {
          "model_module": "@jupyter-widgets/controls",
          "model_name": "DescriptionStyleModel",
          "state": {
            "_view_name": "StyleView",
            "_model_name": "DescriptionStyleModel",
            "description_width": "",
            "_view_module": "@jupyter-widgets/base",
            "_model_module_version": "1.5.0",
            "_view_count": null,
            "_view_module_version": "1.2.0",
            "_model_module": "@jupyter-widgets/controls"
          }
        },
        "779f63041b114ad7ba2606f991e8bcb5": {
          "model_module": "@jupyter-widgets/base",
          "model_name": "LayoutModel",
          "state": {
            "_view_name": "LayoutView",
            "grid_template_rows": null,
            "right": null,
            "justify_content": null,
            "_view_module": "@jupyter-widgets/base",
            "overflow": null,
            "_model_module_version": "1.2.0",
            "_view_count": null,
            "flex_flow": null,
            "width": null,
            "min_width": null,
            "border": null,
            "align_items": null,
            "bottom": null,
            "_model_module": "@jupyter-widgets/base",
            "top": null,
            "grid_column": null,
            "overflow_y": null,
            "overflow_x": null,
            "grid_auto_flow": null,
            "grid_area": null,
            "grid_template_columns": null,
            "flex": null,
            "_model_name": "LayoutModel",
            "justify_items": null,
            "grid_row": null,
            "max_height": null,
            "align_content": null,
            "visibility": null,
            "align_self": null,
            "height": null,
            "min_height": null,
            "padding": null,
            "grid_auto_rows": null,
            "grid_gap": null,
            "max_width": null,
            "order": null,
            "_view_module_version": "1.2.0",
            "grid_template_areas": null,
            "object_position": null,
            "object_fit": null,
            "grid_auto_columns": null,
            "margin": null,
            "display": null,
            "left": null
          }
        }
      }
    }
  },
  "cells": [
    {
      "cell_type": "markdown",
      "metadata": {
        "id": "view-in-github",
        "colab_type": "text"
      },
      "source": [
        "<a href=\"https://colab.research.google.com/github/dk-wei/super-duper-transformer/blob/main/bert_classification_(CLS_%2B_Fine_tune_%E4%B8%AD%E6%96%87%E7%89%88%E6%9C%AC).ipynb\" target=\"_parent\"><img src=\"https://colab.research.google.com/assets/colab-badge.svg\" alt=\"Open In Colab\"/></a>"
      ]
    },
    {
      "cell_type": "code",
      "metadata": {
        "id": "_pKn0A-IuHWX"
      },
      "source": [
        "#pip install transformers==3"
      ],
      "execution_count": null,
      "outputs": []
    },
    {
      "cell_type": "code",
      "metadata": {
        "id": "dNlMtsjqt6Mm"
      },
      "source": [
        "#part2: bert feature-base\n",
        "import numpy as np\n",
        "import pandas as pd\n",
        "from sklearn.model_selection import train_test_split\n",
        "from sklearn.linear_model import LogisticRegression\n",
        "from sklearn.model_selection import GridSearchCV\n",
        "from sklearn.model_selection import cross_val_score\n",
        "import torch\n",
        "import transformers as tfs\n",
        "import warnings\n",
        "\n",
        "warnings.filterwarnings('ignore')"
      ],
      "execution_count": 5,
      "outputs": []
    },
    {
      "cell_type": "markdown",
      "metadata": {
        "id": "T0CjKsdfvnvt"
      },
      "source": [
        "# Part 1: 直接利用BERT提取`[CLS]`特征的方式进行建模"
      ]
    },
    {
      "cell_type": "markdown",
      "metadata": {
        "id": "gQAC5ueLwRBz"
      },
      "source": [
        "## 加载数据集"
      ]
    },
    {
      "cell_type": "code",
      "metadata": {
        "id": "Bbew3qKyt7W9"
      },
      "source": [
        "train_df = pd.read_csv('https://github.com/clairett/pytorch-sentiment-classification/raw/master/data/SST2/train.tsv', delimiter='\\t', header=None)"
      ],
      "execution_count": 6,
      "outputs": []
    },
    {
      "cell_type": "code",
      "metadata": {
        "colab": {
          "base_uri": "https://localhost:8080/"
        },
        "id": "j6L9PZOGt7US",
        "outputId": "09331223-81d2-44db-e823-ea7f85aab5f0"
      },
      "source": [
        "train_set = train_df[:3000]\n",
        "\n",
        "print(\"Train set shape:\", train_set.shape)"
      ],
      "execution_count": 7,
      "outputs": [
        {
          "output_type": "stream",
          "text": [
            "Train set shape: (3000, 2)\n"
          ],
          "name": "stdout"
        }
      ]
    },
    {
      "cell_type": "code",
      "metadata": {
        "colab": {
          "base_uri": "https://localhost:8080/"
        },
        "id": "XlONsmFBt7R1",
        "outputId": "22cbada6-e41c-4ea1-84c0-729c861c62da"
      },
      "source": [
        "train_set[1].value_counts()"
      ],
      "execution_count": 8,
      "outputs": [
        {
          "output_type": "execute_result",
          "data": {
            "text/plain": [
              "1    1565\n",
              "0    1435\n",
              "Name: 1, dtype: int64"
            ]
          },
          "metadata": {
            "tags": []
          },
          "execution_count": 8
        }
      ]
    },
    {
      "cell_type": "markdown",
      "metadata": {
        "id": "eJiRR_3AwYdj"
      },
      "source": [
        "可以看出，积极和消极的标签基本对半分。"
      ]
    },
    {
      "cell_type": "markdown",
      "metadata": {
        "id": "cbi2l3mowczJ"
      },
      "source": [
        "## 利用BERT进行特征抽取\n",
        "\n",
        "在这里，我们利用BERT对数据集进行特征抽取，即把输入数据经过BERT模型，来获取输入数据的特征，这些特征包含了整个句子的信息，是语境层面的。这种做法类似于EMLo的特征抽取。需要注意的是，这里并没有使用到BERT的微调，因为BERT并不参与后面的训练，仅仅进行特征抽取操作。"
      ]
    },
    {
      "cell_type": "code",
      "metadata": {
        "colab": {
          "base_uri": "https://localhost:8080/",
          "height": 164,
          "referenced_widgets": [
            "c24727fb907a42dfbee6e7bebdaaa5bb",
            "773b127ec6a249d8b30cae4a5bad065d",
            "f8d56e668afd4e75b26c45b6012b29e8",
            "7db93d0b31e84a98b54664d8f5a1f448",
            "84dbad3f7dcb4dacb2a1249744c20be5",
            "5f4a59b75797456a9c5e2b52dd61eab5",
            "50bc965194b84f90875ff216eed3b249",
            "3be758c149174b9fa95840245e5d03e2",
            "103cb50fa8bb4e62a1ce74e5b8726132",
            "adac8e556f164691b4dd444578ba004e",
            "a6da7c10bb744f078923e9dbc7292195",
            "2843c2e3d8464deb97a1d1b64016e98d",
            "a0205f1f03a04d49a6a228516fca3f9f",
            "cb5f5fbda73a4fecaa2fad7f6fbf3a34",
            "0a675fa6de9d4d269ee2943cfab46b09",
            "5c18a12874534e6e984328d57a0a2222",
            "3b9aa2b8606644f1a1e5777a6e1980e5",
            "870ed79c67614d2a9146284ae0a90a93",
            "bf510a2359304985815c24986f0a9c48",
            "6bfa9156419c4e81bd9bca09710e9b30",
            "7133cbd375214a1ca4bd95fbdf899afb",
            "5ad28bee17b34b9f958dd41bdb5b672f",
            "65cc31a4c874495bbec4dd7224b6fff8",
            "779f63041b114ad7ba2606f991e8bcb5"
          ]
        },
        "id": "LWmwpesnt7PX",
        "outputId": "db6e1cda-2ad4-4ba2-be06-24d7939ad312"
      },
      "source": [
        "model_class, tokenizer_class, pretrained_weights = (tfs.BertModel, tfs.BertTokenizer, 'bert-base-uncased')\n",
        "tokenizer = tokenizer_class.from_pretrained(pretrained_weights)\n",
        "model = model_class.from_pretrained(pretrained_weights)"
      ],
      "execution_count": 9,
      "outputs": [
        {
          "output_type": "display_data",
          "data": {
            "application/vnd.jupyter.widget-view+json": {
              "model_id": "c24727fb907a42dfbee6e7bebdaaa5bb",
              "version_minor": 0,
              "version_major": 2
            },
            "text/plain": [
              "HBox(children=(FloatProgress(value=0.0, description='Downloading', max=231508.0, style=ProgressStyle(descripti…"
            ]
          },
          "metadata": {
            "tags": []
          }
        },
        {
          "output_type": "stream",
          "text": [
            "\n"
          ],
          "name": "stdout"
        },
        {
          "output_type": "display_data",
          "data": {
            "application/vnd.jupyter.widget-view+json": {
              "model_id": "103cb50fa8bb4e62a1ce74e5b8726132",
              "version_minor": 0,
              "version_major": 2
            },
            "text/plain": [
              "HBox(children=(FloatProgress(value=0.0, description='Downloading', max=433.0, style=ProgressStyle(description_…"
            ]
          },
          "metadata": {
            "tags": []
          }
        },
        {
          "output_type": "stream",
          "text": [
            "\n"
          ],
          "name": "stdout"
        },
        {
          "output_type": "display_data",
          "data": {
            "application/vnd.jupyter.widget-view+json": {
              "model_id": "3b9aa2b8606644f1a1e5777a6e1980e5",
              "version_minor": 0,
              "version_major": 2
            },
            "text/plain": [
              "HBox(children=(FloatProgress(value=0.0, description='Downloading', max=440473133.0, style=ProgressStyle(descri…"
            ]
          },
          "metadata": {
            "tags": []
          }
        },
        {
          "output_type": "stream",
          "text": [
            "\n"
          ],
          "name": "stdout"
        }
      ]
    },
    {
      "cell_type": "markdown",
      "metadata": {
        "id": "OJVUbgPKwj2N"
      },
      "source": [
        "我们使用预训练好的\"`bert-base-uncased`\"模型参数进行处理，采用的模型是 `BertModel` ，采用的分词器是 `BertTokenizer` 。由于我们的输入句子是英文句子，所以需要先分词；然后把单词映射成词汇表的索引，再喂给模型。实际上Bert的分词操作，不是以传统的单词为单位的，而是以 `wordpiece` 为单位，这是比单词更细粒度的单位。我们执行以下代码："
      ]
    },
    {
      "cell_type": "code",
      "metadata": {
        "id": "kig5xbpst7N_"
      },
      "source": [
        "train_tokenized = train_set[0].apply((lambda x: tokenizer.encode(x, add_special_tokens=True)))"
      ],
      "execution_count": 10,
      "outputs": []
    },
    {
      "cell_type": "markdown",
      "metadata": {
        "id": "6B6ntVrqwv4f"
      },
      "source": [
        "然后，为了提升训练速度，我们需要把句子都处理成同一个长度，即常见的pad操作，我们在短的句子末尾添加一系列的`[PAD]`符号："
      ]
    },
    {
      "cell_type": "code",
      "metadata": {
        "colab": {
          "base_uri": "https://localhost:8080/"
        },
        "id": "9EHkZSAQt7LM",
        "outputId": "de0c3503-b135-47cc-982a-8f670b05c193"
      },
      "source": [
        "train_max_len = 0\n",
        "for i in train_tokenized.values:\n",
        "    if len(i) > train_max_len:\n",
        "        train_max_len = len(i)\n",
        "\n",
        "train_padded = np.array([i + [0] * (train_max_len-len(i)) for i in train_tokenized.values])\n",
        "print(\"train set shape:\",train_padded.shape)"
      ],
      "execution_count": 11,
      "outputs": [
        {
          "output_type": "stream",
          "text": [
            "train set shape: (3000, 66)\n"
          ],
          "name": "stdout"
        }
      ]
    },
    {
      "cell_type": "markdown",
      "metadata": {
        "id": "2JGKn-m8w6yD"
      },
      "source": [
        "最后，我们还需要让模型知道，哪些词是不用处理的，即上面我们添加的[PAD]符号, 其实就是attention-mask的功能：\n",
        "\n"
      ]
    },
    {
      "cell_type": "code",
      "metadata": {
        "colab": {
          "base_uri": "https://localhost:8080/"
        },
        "id": "KcKDcs-Ct7Ha",
        "outputId": "6837591b-14f7-4064-ac73-b9c23560e79a"
      },
      "source": [
        "print(train_padded[0])\n",
        "train_attention_mask = np.where(train_padded != 0, 1, 0)\n",
        "print(train_attention_mask[0])"
      ],
      "execution_count": 12,
      "outputs": [
        {
          "output_type": "stream",
          "text": [
            "[  101  1037 18385  1010  6057  1998  2633 18276  2128 16603  1997  5053\n",
            "  1998  1996  6841  1998  5687  5469  3152   102     0     0     0     0\n",
            "     0     0     0     0     0     0     0     0     0     0     0     0\n",
            "     0     0     0     0     0     0     0     0     0     0     0     0\n",
            "     0     0     0     0     0     0     0     0     0     0     0     0\n",
            "     0     0     0     0     0     0]\n",
            "[1 1 1 1 1 1 1 1 1 1 1 1 1 1 1 1 1 1 1 1 0 0 0 0 0 0 0 0 0 0 0 0 0 0 0 0 0\n",
            " 0 0 0 0 0 0 0 0 0 0 0 0 0 0 0 0 0 0 0 0 0 0 0 0 0 0 0 0 0]\n"
          ],
          "name": "stdout"
        }
      ]
    },
    {
      "cell_type": "code",
      "metadata": {
        "id": "pJoLt2EQt7E0"
      },
      "source": [
        "train_input_ids = torch.tensor(train_padded).long()\n",
        "train_attention_mask = torch.tensor(train_attention_mask).long()\n",
        "with torch.no_grad():\n",
        "    train_last_hidden_states = model(train_input_ids, attention_mask=train_attention_mask)"
      ],
      "execution_count": 13,
      "outputs": []
    },
    {
      "cell_type": "markdown",
      "metadata": {
        "id": "DFwTPrhfxRtQ"
      },
      "source": [
        "我们来看以下Bert模型给我们的输出是什么样的："
      ]
    },
    {
      "cell_type": "code",
      "metadata": {
        "colab": {
          "base_uri": "https://localhost:8080/"
        },
        "id": "bKIpiTX-t7Bj",
        "outputId": "3ebc6eb3-fc4e-48ca-e8a1-f1887b09428c"
      },
      "source": [
        "train_last_hidden_states[0].size()"
      ],
      "execution_count": 14,
      "outputs": [
        {
          "output_type": "execute_result",
          "data": {
            "text/plain": [
              "torch.Size([3000, 66, 768])"
            ]
          },
          "metadata": {
            "tags": []
          },
          "execution_count": 14
        }
      ]
    },
    {
      "cell_type": "markdown",
      "metadata": {
        "id": "afFjZvrJxToL"
      },
      "source": [
        "第一维的是样本数量，第二维的是序列长度，第三维是特征数量。也就是说，Bert对于我们的每一个位置的输入，都会输出一个对应的特征向量。"
      ]
    },
    {
      "cell_type": "markdown",
      "metadata": {
        "id": "70PgTqNFxf9b"
      },
      "source": [
        "## 切分数据成训练集和测试集"
      ]
    },
    {
      "cell_type": "code",
      "metadata": {
        "id": "-hj_thNkt6-x"
      },
      "source": [
        "train_features = train_last_hidden_states[0][:,0,:].numpy()\n",
        "train_labels = train_set[1]\n"
      ],
      "execution_count": 15,
      "outputs": []
    },
    {
      "cell_type": "markdown",
      "metadata": {
        "id": "XQIutGHdxicV"
      },
      "source": [
        "请注意：我们使用[:,0,:]来提取序列第一个位置的输出向量，因为第一个位置是[CLS]，比起其他位置，该向量应该更具有代表性，蕴含了整个句子的信息。紧接着，我们利用sklearn库的方法来把数据集切分成训练集和测试集。\n",
        "\n",
        "![](https://camo.githubusercontent.com/009eabd7b7697055256ab3655f048d5c31967e1b/68747470733a2f2f6a616c616d6d61722e6769746875622e696f2f696d616765732f64697374696c424552542f626572742d6f75747075742d74656e736f722d73656c656374696f6e2e706e67)"
      ]
    },
    {
      "cell_type": "code",
      "metadata": {
        "id": "h9GUB74Ht6JI"
      },
      "source": [
        "train_features, test_features, train_labels, test_labels = train_test_split(train_features, train_labels)"
      ],
      "execution_count": 16,
      "outputs": []
    },
    {
      "cell_type": "markdown",
      "metadata": {
        "id": "ydmgBc8DySOr"
      },
      "source": [
        "## 使用逻辑回归进行训练\n",
        "\n",
        "在这一部分，我们使用sklearn的逻辑回归模块对我们的训练集进行拟合，最后在测试集上进行评价："
      ]
    },
    {
      "cell_type": "code",
      "metadata": {
        "colab": {
          "base_uri": "https://localhost:8080/"
        },
        "id": "8lvQYTUIt6G2",
        "outputId": "a5d2c26c-d65d-4f37-874d-d2e716b084fd"
      },
      "source": [
        "lr_clf = LogisticRegression()\n",
        "lr_clf.fit(train_features, train_labels)"
      ],
      "execution_count": 17,
      "outputs": [
        {
          "output_type": "execute_result",
          "data": {
            "text/plain": [
              "LogisticRegression(C=1.0, class_weight=None, dual=False, fit_intercept=True,\n",
              "                   intercept_scaling=1, l1_ratio=None, max_iter=100,\n",
              "                   multi_class='auto', n_jobs=None, penalty='l2',\n",
              "                   random_state=None, solver='lbfgs', tol=0.0001, verbose=0,\n",
              "                   warm_start=False)"
            ]
          },
          "metadata": {
            "tags": []
          },
          "execution_count": 17
        }
      ]
    },
    {
      "cell_type": "code",
      "metadata": {
        "colab": {
          "base_uri": "https://localhost:8080/"
        },
        "id": "mCO6m_kht6D5",
        "outputId": "694db145-4dac-4132-bd79-56d6a9e2ffc0"
      },
      "source": [
        "lr_clf.score(test_features, test_labels)"
      ],
      "execution_count": 18,
      "outputs": [
        {
          "output_type": "execute_result",
          "data": {
            "text/plain": [
              "0.868"
            ]
          },
          "metadata": {
            "tags": []
          },
          "execution_count": 18
        }
      ]
    },
    {
      "cell_type": "markdown",
      "metadata": {
        "id": "Zied6rcIyV9l"
      },
      "source": [
        "经过逻辑回归模型的拟合，其准确率达到了79.21，分类效果还不错。那么，我们还能进一步提升吗？"
      ]
    },
    {
      "cell_type": "markdown",
      "metadata": {
        "id": "tI-YRYs5vuw4"
      },
      "source": [
        "# Part 2: 利用BERT基于微调的方式进行建模\n",
        "\n",
        "在上一部分，我们利用了Bert抽取特征的能力进行建模，直接提取了Bert的输出特征，再输入给一个线性层以预测。但Bert本身的不参与模型的训练。\n",
        "\n",
        "现在我们采取另一种方式，即fine-tuned，Bert与线性层一起参与训练，反向传播会更新bert和classifier二者的参数，使得Bert模型更加适合这个分类任务。那么，让我们开始吧~\n",
        "\n",
        "## 建立模型\n",
        "\n"
      ]
    },
    {
      "cell_type": "code",
      "metadata": {
        "id": "t9r0spN_t6BU"
      },
      "source": [
        "#part 2 - bert fine-tuned\n",
        "import torch\n",
        "from torch import nn\n",
        "from torch import optim\n",
        "import transformers as tfs\n",
        "import math\n",
        "\n",
        "class BertClassificationModel(nn.Module):\n",
        "    def __init__(self):\n",
        "        super(BertClassificationModel, self).__init__()   \n",
        "        model_class, tokenizer_class, pretrained_weights = (tfs.BertModel, tfs.BertTokenizer, 'bert-base-uncased')         \n",
        "        self.tokenizer = tokenizer_class.from_pretrained(pretrained_weights)\n",
        "        self.bert = model_class.from_pretrained(pretrained_weights)\n",
        "        self.dense = nn.Linear(768, 2)  #bert默认的隐藏单元数是768， 输出单元是2，表示二分类\n",
        "        \n",
        "    def forward(self, batch_sentences):\n",
        "        #print(batch_sentences[4])\n",
        "\n",
        "        #上面那些构造attention mask以及tokenization直接可以用batch_encode_plus一步到位\n",
        "        batch_tokenized = self.tokenizer.batch_encode_plus(batch_sentences, \n",
        "                                                           add_special_tokens=True,\n",
        "                                                           max_length=66, \n",
        "                                                           padding='max_length', # padding有很多种，可以自行查阅documents\n",
        "                                                           truncation=True,\n",
        "                                                           #pad_to_max_length=True\n",
        "                                                           )      #tokenize、add special token、pad\n",
        "        \n",
        "        input_ids = torch.tensor(batch_tokenized['input_ids'])\n",
        "        attention_mask = torch.tensor(batch_tokenized['attention_mask'])\n",
        "        \n",
        "        bert_output = self.bert(input_ids, attention_mask=attention_mask)\n",
        "        \n",
        "        bert_cls_hidden_state = bert_output[0][:,0,:]       #提取[CLS]对应的隐藏状态, 即使是training，用的也是[CLS]的embedding\n",
        "        \n",
        "        linear_output = self.dense(bert_cls_hidden_state)    #卧槽，dense一下就可以直接输出probability了\n",
        "        return linear_output"
      ],
      "execution_count": 22,
      "outputs": []
    },
    {
      "cell_type": "markdown",
      "metadata": {
        "id": "mXIdj1Ey0Bh-"
      },
      "source": [
        "模型很简单，关键代码都在上面注释了。其主要构成是在bert模型的[CLS]输出位置接上一个线性层，用以预测句子的分类。\n",
        "\n",
        "## 数据分批\n",
        "\n",
        "下面我们对原来的数据集进行一些改造，分成batch_size为64大小的数据集，以便模型进行批量梯度下降。"
      ]
    },
    {
      "cell_type": "code",
      "metadata": {
        "id": "SpwzRzdlt5-d"
      },
      "source": [
        "sentences = train_set[0].values\n",
        "targets = train_set[1].values\n",
        "train_inputs, test_inputs, train_targets, test_targets = train_test_split(sentences, targets)\n",
        "\n",
        "batch_size = 64\n",
        "batch_count = int(len(train_inputs) / batch_size)\n",
        "batch_train_inputs, batch_train_targets = [], []\n",
        "\n",
        "for i in range(batch_count):\n",
        "    batch_train_inputs.append(train_inputs[i*batch_size : (i+1)*batch_size])\n",
        "    batch_train_targets.append(train_targets[i*batch_size : (i+1)*batch_size])"
      ],
      "execution_count": 23,
      "outputs": []
    },
    {
      "cell_type": "markdown",
      "metadata": {
        "id": "IWVEH-MD0FQ0"
      },
      "source": [
        "## 训练模型\n",
        "\n"
      ]
    },
    {
      "cell_type": "code",
      "metadata": {
        "colab": {
          "base_uri": "https://localhost:8080/"
        },
        "id": "K2OPOyOHt57g",
        "outputId": "c1177762-689a-4704-85e5-a319b0c82d8a"
      },
      "source": [
        "#train the model\n",
        "epochs = 3\n",
        "lr = 0.01\n",
        "print_every_batch = 10\n",
        "\n",
        "bert_classifier_model = BertClassificationModel()\n",
        "optimizer = optim.SGD(bert_classifier_model.parameters(), lr=lr)\n",
        "criterion = nn.CrossEntropyLoss()\n",
        "\n",
        "for epoch in range(epochs):\n",
        "    print_avg_loss = 0\n",
        "    for i in range(batch_count):\n",
        "        # forward-propagation\n",
        "        inputs = batch_train_inputs[i]\n",
        "        labels = torch.tensor(batch_train_targets[i])\n",
        "        optimizer.zero_grad()\n",
        "\n",
        "        outputs = bert_classifier_model(inputs)\n",
        "        loss = criterion(outputs, labels)\n",
        "\n",
        "        # back-propagation\n",
        "        loss.backward()\n",
        "        optimizer.step()\n",
        "        \n",
        "        print_avg_loss += loss.item()\n",
        "        if i % print_every_batch == (print_every_batch-1):\n",
        "            print(\"Batch: %d, Loss: %.4f\" % ((i+1), print_avg_loss/print_every_batch))\n",
        "            print_avg_loss = 0\n"
      ],
      "execution_count": 24,
      "outputs": [
        {
          "output_type": "stream",
          "text": [
            "Batch: 10, Loss: 0.6775\n",
            "Batch: 20, Loss: 0.5447\n",
            "Batch: 30, Loss: 0.5848\n",
            "Batch: 10, Loss: 0.4557\n",
            "Batch: 20, Loss: 0.3258\n",
            "Batch: 30, Loss: 0.3545\n",
            "Batch: 10, Loss: 0.3087\n",
            "Batch: 20, Loss: 0.2010\n",
            "Batch: 30, Loss: 0.2941\n"
          ],
          "name": "stdout"
        }
      ]
    },
    {
      "cell_type": "markdown",
      "metadata": {
        "id": "jsk90tbD0I2S"
      },
      "source": [
        "## 模型评价\n",
        "\n"
      ]
    },
    {
      "cell_type": "code",
      "metadata": {
        "colab": {
          "base_uri": "https://localhost:8080/"
        },
        "id": "0w07k28gt54t",
        "outputId": "dad2b1fe-37bd-4915-9f15-2f49240ebad6"
      },
      "source": [
        "# eval the trained model\n",
        "total = len(test_inputs)\n",
        "hit = 0\n",
        "with torch.no_grad():\n",
        "    for i in range(total):\n",
        "        outputs = bert_classifier_model([test_inputs[i]])\n",
        "        _, predicted = torch.max(outputs, 1)\n",
        "        if predicted == test_targets[i]:\n",
        "            hit += 1\n",
        "\n",
        "print(\"Accuracy: %.2f%%\" % (hit / total * 100))"
      ],
      "execution_count": 25,
      "outputs": [
        {
          "output_type": "stream",
          "text": [
            "Accuracy: 86.53%\n"
          ],
          "name": "stdout"
        }
      ]
    },
    {
      "cell_type": "code",
      "metadata": {
        "id": "os5vgYc6t51s"
      },
      "source": [
        ""
      ],
      "execution_count": 25,
      "outputs": []
    },
    {
      "cell_type": "code",
      "metadata": {
        "id": "JeHYRlxht3pw"
      },
      "source": [
        ""
      ],
      "execution_count": null,
      "outputs": []
    }
  ]
}